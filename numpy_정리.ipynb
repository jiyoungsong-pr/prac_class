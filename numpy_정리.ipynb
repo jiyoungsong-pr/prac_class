{
  "nbformat": 4,
  "nbformat_minor": 0,
  "metadata": {
    "colab": {
      "name": "numpy 정리 ",
      "provenance": [],
      "authorship_tag": "ABX9TyOP7fN5XFtj/glOAeGjOG2/",
      "include_colab_link": true
    },
    "kernelspec": {
      "name": "python3",
      "display_name": "Python 3"
    },
    "language_info": {
      "name": "python"
    }
  },
  "cells": [
    {
      "cell_type": "markdown",
      "metadata": {
        "id": "view-in-github",
        "colab_type": "text"
      },
      "source": [
        "<a href=\"https://colab.research.google.com/github/jiyoungsong-pr/prac_class/blob/main/numpy_%EC%A0%95%EB%A6%AC.ipynb\" target=\"_parent\"><img src=\"https://colab.research.google.com/assets/colab-badge.svg\" alt=\"Open In Colab\"/></a>"
      ]
    },
    {
      "cell_type": "code",
      "execution_count": null,
      "metadata": {
        "id": "RQGK2D52IRaI"
      },
      "outputs": [],
      "source": [
        ""
      ]
    },
    {
      "cell_type": "markdown",
      "source": [
        "반복문 없이 데이터 배열 처리 빠름 \n",
        "중요한 기본이 되는 패키지 "
      ],
      "metadata": {
        "id": "WGU1P78TITiz"
      }
    },
    {
      "cell_type": "code",
      "source": [
        "import numpy as np\n",
        "np.__version__"
      ],
      "metadata": {
        "colab": {
          "base_uri": "https://localhost:8080/",
          "height": 35
        },
        "id": "EoPomxUYIgC7",
        "outputId": "c9eb1203-57b4-4c94-876b-2d9a00d5a6d8"
      },
      "execution_count": 3,
      "outputs": [
        {
          "output_type": "execute_result",
          "data": {
            "text/plain": [
              "'1.21.5'"
            ],
            "application/vnd.google.colaboratory.intrinsic+json": {
              "type": "string"
            }
          },
          "metadata": {},
          "execution_count": 3
        }
      ]
    },
    {
      "cell_type": "code",
      "source": [
        "a1=np.array([1,2,3,4,5])\n",
        "print (a1)\n",
        "print(type(a1))\n",
        "print(a1.shape )\n",
        "print(a1[0],a1[1],a1[2],a1[3],a1[4])\n",
        "a1[0]=4\n",
        "a1[1]=5\n",
        "a1[2]=6\n",
        "print(a1)\n",
        "#1차원\n"
      ],
      "metadata": {
        "colab": {
          "base_uri": "https://localhost:8080/"
        },
        "id": "wptAS2J0Ills",
        "outputId": "e1777918-6a26-4a89-fcfe-9ec11fd7eb8e"
      },
      "execution_count": 6,
      "outputs": [
        {
          "output_type": "stream",
          "name": "stdout",
          "text": [
            "[1 2 3 4 5]\n",
            "<class 'numpy.ndarray'>\n",
            "(5,)\n",
            "1 2 3 4 5\n",
            "[4 5 6 4 5]\n"
          ]
        }
      ]
    },
    {
      "cell_type": "code",
      "source": [
        "#2차원\n",
        "a2=np.array([[1,2,3],[4,5,6,],[7,8,9]])\n",
        "print(a2)\n",
        "print(a2.shape)\n",
        "print(a2[0,0],a2[1,1],a2[2,2])"
      ],
      "metadata": {
        "colab": {
          "base_uri": "https://localhost:8080/"
        },
        "id": "aEbMUYu7KKFj",
        "outputId": "ff391ef4-4f51-4135-b286-c48813885353"
      },
      "execution_count": 8,
      "outputs": [
        {
          "output_type": "stream",
          "name": "stdout",
          "text": [
            "[[1 2 3]\n",
            " [4 5 6]\n",
            " [7 8 9]]\n",
            "(3, 3)\n",
            "1 5 9\n"
          ]
        }
      ]
    },
    {
      "cell_type": "code",
      "source": [
        "a3=np.array([[[1,2,3],[4,5,6],[7,8,9]],\n",
        "             [[1,2,3],[4,5,6],[7,8,9]],\n",
        "             [[1,2,3],[4,5,6],[7,8,9]]])\n",
        "print(a3)\n",
        "print(a3.shape)"
      ],
      "metadata": {
        "colab": {
          "base_uri": "https://localhost:8080/"
        },
        "id": "ifu77J46KfYv",
        "outputId": "784341d2-f107-48c4-a96f-8023a7dbcc6f"
      },
      "execution_count": 10,
      "outputs": [
        {
          "output_type": "stream",
          "name": "stdout",
          "text": [
            "[[[1 2 3]\n",
            "  [4 5 6]\n",
            "  [7 8 9]]\n",
            "\n",
            " [[1 2 3]\n",
            "  [4 5 6]\n",
            "  [7 8 9]]\n",
            "\n",
            " [[1 2 3]\n",
            "  [4 5 6]\n",
            "  [7 8 9]]]\n",
            "(3, 3, 3)\n"
          ]
        }
      ]
    },
    {
      "cell_type": "markdown",
      "source": [
        "배열 생성 및 초기화 "
      ],
      "metadata": {
        "id": "tKEcAtSsLPaM"
      }
    },
    {
      "cell_type": "code",
      "source": [
        "np.zeros(10)"
      ],
      "metadata": {
        "id": "uJjIb43oLLYU",
        "outputId": "30e965c5-06e6-4aab-830d-954101e7d14b",
        "colab": {
          "base_uri": "https://localhost:8080/"
        }
      },
      "execution_count": 11,
      "outputs": [
        {
          "output_type": "execute_result",
          "data": {
            "text/plain": [
              "array([0., 0., 0., 0., 0., 0., 0., 0., 0., 0.])"
            ]
          },
          "metadata": {},
          "execution_count": 11
        }
      ]
    },
    {
      "cell_type": "code",
      "source": [
        "np.ones((3,3))"
      ],
      "metadata": {
        "id": "BbOby5GILV7X",
        "outputId": "33ca4af1-9ec6-4566-dcc6-27a2d1b1b232",
        "colab": {
          "base_uri": "https://localhost:8080/"
        }
      },
      "execution_count": 14,
      "outputs": [
        {
          "output_type": "execute_result",
          "data": {
            "text/plain": [
              "array([[1., 1., 1.],\n",
              "       [1., 1., 1.],\n",
              "       [1., 1., 1.]])"
            ]
          },
          "metadata": {},
          "execution_count": 14
        }
      ]
    },
    {
      "cell_type": "markdown",
      "source": [
        "full(): 모든 요소를 지정한 값으로 초기화 "
      ],
      "metadata": {
        "id": "RKUXj-GJLiFV"
      }
    },
    {
      "cell_type": "code",
      "source": [
        "np.full((3,3),1.23)"
      ],
      "metadata": {
        "id": "9INtytbkLYiY",
        "outputId": "fa0d4306-e282-4d76-cb5e-bb1ce56a6a8e",
        "colab": {
          "base_uri": "https://localhost:8080/"
        }
      },
      "execution_count": 16,
      "outputs": [
        {
          "output_type": "execute_result",
          "data": {
            "text/plain": [
              "array([[1.23, 1.23, 1.23],\n",
              "       [1.23, 1.23, 1.23],\n",
              "       [1.23, 1.23, 1.23]])"
            ]
          },
          "metadata": {},
          "execution_count": 16
        }
      ]
    },
    {
      "cell_type": "markdown",
      "source": [
        "eye(): 단위행렬 생성"
      ],
      "metadata": {
        "id": "4ySMG6W0L2QI"
      }
    },
    {
      "cell_type": "code",
      "source": [
        "np.eye(3)"
      ],
      "metadata": {
        "id": "6K5xGE0kLx2l",
        "outputId": "ae289ab6-ff16-474a-81a9-2f9414b474fe",
        "colab": {
          "base_uri": "https://localhost:8080/"
        }
      },
      "execution_count": 17,
      "outputs": [
        {
          "output_type": "execute_result",
          "data": {
            "text/plain": [
              "array([[1., 0., 0.],\n",
              "       [0., 1., 0.],\n",
              "       [0., 0., 1.]])"
            ]
          },
          "metadata": {},
          "execution_count": 17
        }
      ]
    },
    {
      "cell_type": "markdown",
      "source": [
        "tri:삼각행렬"
      ],
      "metadata": {
        "id": "L7eODhI-L-s7"
      }
    },
    {
      "cell_type": "code",
      "source": [
        "np.tri(3)"
      ],
      "metadata": {
        "id": "kkHChbXIL8ts",
        "outputId": "09d7b61f-6ac1-4f09-c976-20dd0b342328",
        "colab": {
          "base_uri": "https://localhost:8080/"
        }
      },
      "execution_count": 18,
      "outputs": [
        {
          "output_type": "execute_result",
          "data": {
            "text/plain": [
              "array([[1., 0., 0.],\n",
              "       [1., 1., 0.],\n",
              "       [1., 1., 1.]])"
            ]
          },
          "metadata": {},
          "execution_count": 18
        }
      ]
    },
    {
      "cell_type": "code",
      "source": [
        "np.empty(10)#초기화 하지 않는 배열 생성"
      ],
      "metadata": {
        "id": "YS_VZ19BMCvD",
        "outputId": "6551c73c-2ef4-4dbd-b2e2-21b5d716c6b4",
        "colab": {
          "base_uri": "https://localhost:8080/"
        }
      },
      "execution_count": 19,
      "outputs": [
        {
          "output_type": "execute_result",
          "data": {
            "text/plain": [
              "array([1., 1., 1., 1., 1., 1., 1., 1., 1., 1.])"
            ]
          },
          "metadata": {},
          "execution_count": 19
        }
      ]
    },
    {
      "cell_type": "code",
      "source": [
        "print(a1)\n",
        "np.zeros_like(a1) #shape 같은 모양으로 하나 만들어줘"
      ],
      "metadata": {
        "id": "16cMHkgzMnY5",
        "outputId": "911f2dae-84fb-4d52-d0c0-dc544f5da8b9",
        "colab": {
          "base_uri": "https://localhost:8080/"
        }
      },
      "execution_count": 21,
      "outputs": [
        {
          "output_type": "stream",
          "name": "stdout",
          "text": [
            "[4 5 6 4 5]\n"
          ]
        },
        {
          "output_type": "execute_result",
          "data": {
            "text/plain": [
              "array([0, 0, 0, 0, 0])"
            ]
          },
          "metadata": {},
          "execution_count": 21
        }
      ]
    },
    {
      "cell_type": "code",
      "source": [
        "print(a2)\n",
        "np.ones_like(a2)"
      ],
      "metadata": {
        "id": "PBrXAqZBMwZL",
        "outputId": "77d9974d-651a-4f85-febb-a74463d99b40",
        "colab": {
          "base_uri": "https://localhost:8080/"
        }
      },
      "execution_count": 23,
      "outputs": [
        {
          "output_type": "stream",
          "name": "stdout",
          "text": [
            "[[1 2 3]\n",
            " [4 5 6]\n",
            " [7 8 9]]\n"
          ]
        },
        {
          "output_type": "execute_result",
          "data": {
            "text/plain": [
              "array([[1, 1, 1],\n",
              "       [1, 1, 1],\n",
              "       [1, 1, 1]])"
            ]
          },
          "metadata": {},
          "execution_count": 23
        }
      ]
    },
    {
      "cell_type": "code",
      "source": [
        "print(a3)\n",
        "np.full_like(a3,(3,3))"
      ],
      "metadata": {
        "id": "puA8VjKSM0QZ",
        "outputId": "32e6fec9-c382-4f75-8fb9-9a4029d16236",
        "colab": {
          "base_uri": "https://localhost:8080/",
          "height": 590
        }
      },
      "execution_count": 24,
      "outputs": [
        {
          "output_type": "stream",
          "name": "stdout",
          "text": [
            "[[[1 2 3]\n",
            "  [4 5 6]\n",
            "  [7 8 9]]\n",
            "\n",
            " [[1 2 3]\n",
            "  [4 5 6]\n",
            "  [7 8 9]]\n",
            "\n",
            " [[1 2 3]\n",
            "  [4 5 6]\n",
            "  [7 8 9]]]\n"
          ]
        },
        {
          "output_type": "error",
          "ename": "ValueError",
          "evalue": "ignored",
          "traceback": [
            "\u001b[0;31m---------------------------------------------------------------------------\u001b[0m",
            "\u001b[0;31mValueError\u001b[0m                                Traceback (most recent call last)",
            "\u001b[0;32m<ipython-input-24-f4b0f2df14b4>\u001b[0m in \u001b[0;36m<module>\u001b[0;34m()\u001b[0m\n\u001b[1;32m      1\u001b[0m \u001b[0mprint\u001b[0m\u001b[0;34m(\u001b[0m\u001b[0ma3\u001b[0m\u001b[0;34m)\u001b[0m\u001b[0;34m\u001b[0m\u001b[0;34m\u001b[0m\u001b[0m\n\u001b[0;32m----> 2\u001b[0;31m \u001b[0mnp\u001b[0m\u001b[0;34m.\u001b[0m\u001b[0mfull_like\u001b[0m\u001b[0;34m(\u001b[0m\u001b[0ma3\u001b[0m\u001b[0;34m,\u001b[0m\u001b[0;34m(\u001b[0m\u001b[0;36m3\u001b[0m\u001b[0;34m,\u001b[0m\u001b[0;36m3\u001b[0m\u001b[0;34m)\u001b[0m\u001b[0;34m)\u001b[0m\u001b[0;34m\u001b[0m\u001b[0;34m\u001b[0m\u001b[0m\n\u001b[0m",
            "\u001b[0;32m<__array_function__ internals>\u001b[0m in \u001b[0;36mfull_like\u001b[0;34m(*args, **kwargs)\u001b[0m\n",
            "\u001b[0;32m/usr/local/lib/python3.7/dist-packages/numpy/core/numeric.py\u001b[0m in \u001b[0;36mfull_like\u001b[0;34m(a, fill_value, dtype, order, subok, shape)\u001b[0m\n\u001b[1;32m    415\u001b[0m     \"\"\"\n\u001b[1;32m    416\u001b[0m     \u001b[0mres\u001b[0m \u001b[0;34m=\u001b[0m \u001b[0mempty_like\u001b[0m\u001b[0;34m(\u001b[0m\u001b[0ma\u001b[0m\u001b[0;34m,\u001b[0m \u001b[0mdtype\u001b[0m\u001b[0;34m=\u001b[0m\u001b[0mdtype\u001b[0m\u001b[0;34m,\u001b[0m \u001b[0morder\u001b[0m\u001b[0;34m=\u001b[0m\u001b[0morder\u001b[0m\u001b[0;34m,\u001b[0m \u001b[0msubok\u001b[0m\u001b[0;34m=\u001b[0m\u001b[0msubok\u001b[0m\u001b[0;34m,\u001b[0m \u001b[0mshape\u001b[0m\u001b[0;34m=\u001b[0m\u001b[0mshape\u001b[0m\u001b[0;34m)\u001b[0m\u001b[0;34m\u001b[0m\u001b[0;34m\u001b[0m\u001b[0m\n\u001b[0;32m--> 417\u001b[0;31m     \u001b[0mmultiarray\u001b[0m\u001b[0;34m.\u001b[0m\u001b[0mcopyto\u001b[0m\u001b[0;34m(\u001b[0m\u001b[0mres\u001b[0m\u001b[0;34m,\u001b[0m \u001b[0mfill_value\u001b[0m\u001b[0;34m,\u001b[0m \u001b[0mcasting\u001b[0m\u001b[0;34m=\u001b[0m\u001b[0;34m'unsafe'\u001b[0m\u001b[0;34m)\u001b[0m\u001b[0;34m\u001b[0m\u001b[0;34m\u001b[0m\u001b[0m\n\u001b[0m\u001b[1;32m    418\u001b[0m     \u001b[0;32mreturn\u001b[0m \u001b[0mres\u001b[0m\u001b[0;34m\u001b[0m\u001b[0;34m\u001b[0m\u001b[0m\n\u001b[1;32m    419\u001b[0m \u001b[0;34m\u001b[0m\u001b[0m\n",
            "\u001b[0;32m<__array_function__ internals>\u001b[0m in \u001b[0;36mcopyto\u001b[0;34m(*args, **kwargs)\u001b[0m\n",
            "\u001b[0;31mValueError\u001b[0m: could not broadcast input array from shape (2,) into shape (3,3,3)"
          ]
        }
      ]
    },
    {
      "cell_type": "markdown",
      "source": [
        "arrange():정수범위로 배열 생성 "
      ],
      "metadata": {
        "id": "B3q4Z02xM81p"
      }
    },
    {
      "cell_type": "code",
      "source": [
        "np.arrange(0,30,2)"
      ],
      "metadata": {
        "id": "FJmE6Zz2M6C7"
      },
      "execution_count": null,
      "outputs": []
    },
    {
      "cell_type": "markdown",
      "source": [
        "linspace():범위내에서 균등 간격의 배열 "
      ],
      "metadata": {
        "id": "l2DDxNLUNEXa"
      }
    },
    {
      "cell_type": "code",
      "source": [
        "np.linspace(0,1,5)"
      ],
      "metadata": {
        "id": "Zzuxu_gaNIuo",
        "outputId": "7459d2b2-be26-4bfc-c45b-c17d5506f016",
        "colab": {
          "base_uri": "https://localhost:8080/"
        }
      },
      "execution_count": 25,
      "outputs": [
        {
          "output_type": "execute_result",
          "data": {
            "text/plain": [
              "array([0.  , 0.25, 0.5 , 0.75, 1.  ])"
            ]
          },
          "metadata": {},
          "execution_count": 25
        }
      ]
    },
    {
      "cell_type": "markdown",
      "source": [
        "랜덤값 배열 생성 \n"
      ],
      "metadata": {
        "id": "xJ4-W0bMNN4O"
      }
    },
    {
      "cell_type": "code",
      "source": [
        "np.random.random((3,3))"
      ],
      "metadata": {
        "id": "gSQPkThbNMbM",
        "outputId": "f359bf0a-e7df-4057-cb77-a189b0718cc2",
        "colab": {
          "base_uri": "https://localhost:8080/"
        }
      },
      "execution_count": 29,
      "outputs": [
        {
          "output_type": "execute_result",
          "data": {
            "text/plain": [
              "array([[0.77165182, 0.68550192, 0.97718264],\n",
              "       [0.40796143, 0.38178928, 0.66732088],\n",
              "       [0.64121729, 0.85756351, 0.98438021]])"
            ]
          },
          "metadata": {},
          "execution_count": 29
        }
      ]
    },
    {
      "cell_type": "code",
      "source": [
        "np.random.randint(0,10,(3,3))"
      ],
      "metadata": {
        "id": "yCvjrl1XNeAz",
        "outputId": "d62e69b5-debb-430c-951b-45d0fc859637",
        "colab": {
          "base_uri": "https://localhost:8080/"
        }
      },
      "execution_count": 32,
      "outputs": [
        {
          "output_type": "execute_result",
          "data": {
            "text/plain": [
              "array([[2, 9, 7],\n",
              "       [0, 5, 3],\n",
              "       [9, 9, 0]])"
            ]
          },
          "metadata": {},
          "execution_count": 32
        }
      ]
    },
    {
      "cell_type": "code",
      "source": [
        "np.random.normal(0,1,(3,3))"
      ],
      "metadata": {
        "id": "0lwj-gg1NmW5",
        "outputId": "7b13a88d-58fd-49ec-eda4-a23885a74461",
        "colab": {
          "base_uri": "https://localhost:8080/"
        }
      },
      "execution_count": 33,
      "outputs": [
        {
          "output_type": "execute_result",
          "data": {
            "text/plain": [
              "array([[ 0.77430927, -0.21506763, -0.42891237],\n",
              "       [ 0.30249573,  1.12822451, -0.14183068],\n",
              "       [-1.14400492, -0.54305901, -1.01852999]])"
            ]
          },
          "metadata": {},
          "execution_count": 33
        }
      ]
    },
    {
      "cell_type": "code",
      "source": [
        "np.random.rand(3,3)"
      ],
      "metadata": {
        "id": "vwrOKD57Nt15",
        "outputId": "1aed3c3a-b026-44c0-ea8a-debafd94c6d7",
        "colab": {
          "base_uri": "https://localhost:8080/"
        }
      },
      "execution_count": 35,
      "outputs": [
        {
          "output_type": "execute_result",
          "data": {
            "text/plain": [
              "array([[0.52402779, 0.90268237, 0.30822932],\n",
              "       [0.58987425, 0.45709913, 0.74865024],\n",
              "       [0.63190648, 0.11165394, 0.02440051]])"
            ]
          },
          "metadata": {},
          "execution_count": 35
        }
      ]
    },
    {
      "cell_type": "code",
      "source": [
        "np.random.randn(3,3)"
      ],
      "metadata": {
        "id": "_cwTLjPmNxf4",
        "outputId": "e801de8b-682c-49dc-8f6c-cbb6a1f90038",
        "colab": {
          "base_uri": "https://localhost:8080/"
        }
      },
      "execution_count": 36,
      "outputs": [
        {
          "output_type": "execute_result",
          "data": {
            "text/plain": [
              "array([[ 0.87502224,  1.45005156, -1.1099282 ],\n",
              "       [-1.44478017,  1.33374552, -0.63604445],\n",
              "       [ 2.13964685,  1.05171698,  1.36327873]])"
            ]
          },
          "metadata": {},
          "execution_count": 36
        }
      ]
    },
    {
      "cell_type": "markdown",
      "source": [
        "표준 데이터 타입 "
      ],
      "metadata": {
        "id": "gEXZ6Y3BN4DL"
      }
    },
    {
      "cell_type": "code",
      "source": [
        "np.zeros(20,dtype=int)"
      ],
      "metadata": {
        "id": "7dhEPLi6N1E1",
        "outputId": "6e673768-1760-4d56-904b-7467ded73458",
        "colab": {
          "base_uri": "https://localhost:8080/"
        }
      },
      "execution_count": 38,
      "outputs": [
        {
          "output_type": "execute_result",
          "data": {
            "text/plain": [
              "array([0, 0, 0, 0, 0, 0, 0, 0, 0, 0, 0, 0, 0, 0, 0, 0, 0, 0, 0, 0])"
            ]
          },
          "metadata": {},
          "execution_count": 38
        }
      ]
    },
    {
      "cell_type": "code",
      "source": [
        "np.ones((3,3),dtype=bool)"
      ],
      "metadata": {
        "id": "RaFlBXlMOH7r",
        "outputId": "d2c57865-8a83-49e2-b68b-98aca7ca1f84",
        "colab": {
          "base_uri": "https://localhost:8080/"
        }
      },
      "execution_count": 40,
      "outputs": [
        {
          "output_type": "execute_result",
          "data": {
            "text/plain": [
              "array([[ True,  True,  True],\n",
              "       [ True,  True,  True],\n",
              "       [ True,  True,  True]])"
            ]
          },
          "metadata": {},
          "execution_count": 40
        }
      ]
    },
    {
      "cell_type": "markdown",
      "source": [
        "날짜 시간 배열 "
      ],
      "metadata": {
        "id": "XcsRQtiJOZ-D"
      }
    },
    {
      "cell_type": "code",
      "source": [
        "date=np.array('2020-01-01',dtype=np.datetime64)\n",
        "date"
      ],
      "metadata": {
        "id": "YdeeidqXOOSt",
        "outputId": "c9b24247-52f8-45a9-b279-fb1072eab535",
        "colab": {
          "base_uri": "https://localhost:8080/"
        }
      },
      "execution_count": 45,
      "outputs": [
        {
          "output_type": "execute_result",
          "data": {
            "text/plain": [
              "array('2020-01-01', dtype='datetime64[D]')"
            ]
          },
          "metadata": {},
          "execution_count": 45
        }
      ]
    },
    {
      "cell_type": "code",
      "source": [
        "date + np.arange(12)"
      ],
      "metadata": {
        "id": "K8f1S6AVOi-L",
        "outputId": "4a0a5614-0c57-4886-e0e3-7b0f917702ec",
        "colab": {
          "base_uri": "https://localhost:8080/"
        }
      },
      "execution_count": 48,
      "outputs": [
        {
          "output_type": "execute_result",
          "data": {
            "text/plain": [
              "array(['2020-01-01', '2020-01-02', '2020-01-03', '2020-01-04',\n",
              "       '2020-01-05', '2020-01-06', '2020-01-07', '2020-01-08',\n",
              "       '2020-01-09', '2020-01-10', '2020-01-11', '2020-01-12'],\n",
              "      dtype='datetime64[D]')"
            ]
          },
          "metadata": {},
          "execution_count": 48
        }
      ]
    },
    {
      "cell_type": "code",
      "source": [
        "datetime=np.datetime64('2020-06-01 12:00')\n",
        "datetime"
      ],
      "metadata": {
        "id": "KCoek-1OPH81",
        "outputId": "97577fe3-e6d1-42c3-b37e-08552872fbbf",
        "colab": {
          "base_uri": "https://localhost:8080/"
        }
      },
      "execution_count": 49,
      "outputs": [
        {
          "output_type": "execute_result",
          "data": {
            "text/plain": [
              "numpy.datetime64('2020-06-01T12:00')"
            ]
          },
          "metadata": {},
          "execution_count": 49
        }
      ]
    },
    {
      "cell_type": "code",
      "source": [
        "datetime=np.datetime64('2020-06-01 12:0:12.34''ns')\n",
        "datetime\n"
      ],
      "metadata": {
        "id": "62zERL_uPPaR"
      },
      "execution_count": null,
      "outputs": []
    },
    {
      "cell_type": "markdown",
      "source": [
        "배열 조회\n",
        "배열 속성정보\n"
      ],
      "metadata": {
        "id": "6Bu7VsliPYzU"
      }
    },
    {
      "cell_type": "code",
      "source": [
        "def array_info(array):\n",
        "  print(array)\n",
        "  print(\"ndim:\",array.ndim)\n",
        "  print(\"shape:\",array.shape)\n",
        "  print(\"dtype:\",array.dtype)\n",
        "  print(\"size:\",array.size)\n",
        "  print(\"itemsize:\",array.nbytes)\n",
        "  print(\"strides:\",array.strides)"
      ],
      "metadata": {
        "id": "DQFKEYu4Pa6c"
      },
      "execution_count": 51,
      "outputs": []
    },
    {
      "cell_type": "code",
      "source": [
        "array_info(a1)"
      ],
      "metadata": {
        "id": "DUbJPNC3QCqe",
        "outputId": "be8d3b39-61a7-45c3-9635-854182fda5fc",
        "colab": {
          "base_uri": "https://localhost:8080/"
        }
      },
      "execution_count": 52,
      "outputs": [
        {
          "output_type": "stream",
          "name": "stdout",
          "text": [
            "[4 5 6 4 5]\n",
            "ndim: 1\n",
            "shape: (5,)\n",
            "dtype: int64\n",
            "size: 5\n",
            "itemsize: 40\n",
            "strides: (8,)\n"
          ]
        }
      ]
    },
    {
      "cell_type": "code",
      "source": [
        "array_info(a2)"
      ],
      "metadata": {
        "id": "ubUlQYRAQsV3",
        "outputId": "61c2bb9e-e630-4711-a0c9-f57c3b07092f",
        "colab": {
          "base_uri": "https://localhost:8080/"
        }
      },
      "execution_count": 54,
      "outputs": [
        {
          "output_type": "stream",
          "name": "stdout",
          "text": [
            "[[1 2 3]\n",
            " [4 5 6]\n",
            " [7 8 9]]\n",
            "ndim: 2\n",
            "shape: (3, 3)\n",
            "dtype: int64\n",
            "size: 9\n",
            "itemsize: 72\n",
            "strides: (24, 8)\n"
          ]
        }
      ]
    },
    {
      "cell_type": "markdown",
      "source": [
        "인덱싱(indexing)"
      ],
      "metadata": {
        "id": "Jl_p93rTSAbu"
      }
    },
    {
      "cell_type": "code",
      "source": [
        "print(a1)\n",
        "print(a1[0])\n",
        "print(a1[2])\n",
        "print(a1[-1])\n",
        "print(a1[-2])"
      ],
      "metadata": {
        "id": "SowQelShQ6OI",
        "outputId": "88520fec-9040-47e9-aeb9-e41d4a1ff1f5",
        "colab": {
          "base_uri": "https://localhost:8080/"
        }
      },
      "execution_count": 56,
      "outputs": [
        {
          "output_type": "stream",
          "name": "stdout",
          "text": [
            "[4 5 6 4 5]\n",
            "4\n",
            "6\n",
            "5\n",
            "4\n"
          ]
        }
      ]
    },
    {
      "cell_type": "code",
      "source": [
        "print(a2)\n",
        "print(a2[0,0])\n",
        "print(a2[0,2])\n",
        "print(a2[1,1])\n",
        "print(a2[2,-1])"
      ],
      "metadata": {
        "id": "BlJl0wutSLgg",
        "outputId": "9a4555e6-b4f6-45a1-c1f1-c7c36bd0d38b",
        "colab": {
          "base_uri": "https://localhost:8080/"
        }
      },
      "execution_count": 58,
      "outputs": [
        {
          "output_type": "stream",
          "name": "stdout",
          "text": [
            "[[1 2 3]\n",
            " [4 5 6]\n",
            " [7 8 9]]\n",
            "1\n",
            "3\n",
            "5\n",
            "9\n"
          ]
        }
      ]
    },
    {
      "cell_type": "markdown",
      "source": [
        "슬라이싱 (slicing)\n"
      ],
      "metadata": {
        "id": "rw8-nI-4SgqG"
      }
    },
    {
      "cell_type": "code",
      "source": [
        "print(a1)\n",
        "print(a1[0:2])\n",
        "print(a1[0:])\n",
        "print(a1[:1])\n",
        "print(a1[::2])\n",
        "print(a1[::-1])"
      ],
      "metadata": {
        "id": "C3RRz2YXSWLY",
        "outputId": "bcb382ec-55e9-4360-a98f-6c24a60be9d5",
        "colab": {
          "base_uri": "https://localhost:8080/"
        }
      },
      "execution_count": 59,
      "outputs": [
        {
          "output_type": "stream",
          "name": "stdout",
          "text": [
            "[4 5 6 4 5]\n",
            "[4 5]\n",
            "[4 5 6 4 5]\n",
            "[4]\n",
            "[4 6 5]\n",
            "[5 4 6 5 4]\n"
          ]
        }
      ]
    },
    {
      "cell_type": "markdown",
      "source": [
        "불리언 인덱싱 (boolean indexing)"
      ],
      "metadata": {
        "id": "s5WTvNodTcjw"
      }
    },
    {
      "cell_type": "code",
      "source": [
        "print(a1)\n",
        "bi=[False, True,False,True]\n",
        "print=(a1[bi])\n",
        "bi=[True,False,True,True,False]\n",
        "print(a1[bi])"
      ],
      "metadata": {
        "id": "ZqsyUmRfTHC1",
        "outputId": "7f630be5-affa-45d9-be4c-60df84a06b34",
        "colab": {
          "base_uri": "https://localhost:8080/",
          "height": 263
        }
      },
      "execution_count": 63,
      "outputs": [
        {
          "output_type": "stream",
          "name": "stdout",
          "text": [
            "[4 5 6 4 5]\n"
          ]
        },
        {
          "output_type": "error",
          "ename": "IndexError",
          "evalue": "ignored",
          "traceback": [
            "\u001b[0;31m---------------------------------------------------------------------------\u001b[0m",
            "\u001b[0;31mIndexError\u001b[0m                                Traceback (most recent call last)",
            "\u001b[0;32m<ipython-input-63-c155f1d423b3>\u001b[0m in \u001b[0;36m<module>\u001b[0;34m()\u001b[0m\n\u001b[1;32m      1\u001b[0m \u001b[0mprint\u001b[0m\u001b[0;34m(\u001b[0m\u001b[0ma1\u001b[0m\u001b[0;34m)\u001b[0m\u001b[0;34m\u001b[0m\u001b[0;34m\u001b[0m\u001b[0m\n\u001b[1;32m      2\u001b[0m \u001b[0mbi\u001b[0m\u001b[0;34m=\u001b[0m\u001b[0;34m[\u001b[0m\u001b[0;32mFalse\u001b[0m\u001b[0;34m,\u001b[0m \u001b[0;32mTrue\u001b[0m\u001b[0;34m,\u001b[0m\u001b[0;32mFalse\u001b[0m\u001b[0;34m,\u001b[0m\u001b[0;32mTrue\u001b[0m\u001b[0;34m]\u001b[0m\u001b[0;34m\u001b[0m\u001b[0;34m\u001b[0m\u001b[0m\n\u001b[0;32m----> 3\u001b[0;31m \u001b[0mprint\u001b[0m\u001b[0;34m=\u001b[0m\u001b[0;34m(\u001b[0m\u001b[0ma1\u001b[0m\u001b[0;34m[\u001b[0m\u001b[0mbi\u001b[0m\u001b[0;34m]\u001b[0m\u001b[0;34m)\u001b[0m\u001b[0;34m\u001b[0m\u001b[0;34m\u001b[0m\u001b[0m\n\u001b[0m\u001b[1;32m      4\u001b[0m \u001b[0mbi\u001b[0m\u001b[0;34m=\u001b[0m\u001b[0;34m[\u001b[0m\u001b[0;32mTrue\u001b[0m\u001b[0;34m,\u001b[0m\u001b[0;32mFalse\u001b[0m\u001b[0;34m,\u001b[0m\u001b[0;32mTrue\u001b[0m\u001b[0;34m,\u001b[0m\u001b[0;32mTrue\u001b[0m\u001b[0;34m,\u001b[0m\u001b[0;32mFalse\u001b[0m\u001b[0;34m]\u001b[0m\u001b[0;34m\u001b[0m\u001b[0;34m\u001b[0m\u001b[0m\n\u001b[1;32m      5\u001b[0m \u001b[0mprint\u001b[0m\u001b[0;34m(\u001b[0m\u001b[0ma1\u001b[0m\u001b[0;34m[\u001b[0m\u001b[0mbi\u001b[0m\u001b[0;34m]\u001b[0m\u001b[0;34m)\u001b[0m\u001b[0;34m\u001b[0m\u001b[0;34m\u001b[0m\u001b[0m\n",
            "\u001b[0;31mIndexError\u001b[0m: boolean index did not match indexed array along dimension 0; dimension is 5 but corresponding boolean dimension is 4"
          ]
        }
      ]
    },
    {
      "cell_type": "markdown",
      "source": [
        "팬시 인덱싱(fancy indexing)"
      ],
      "metadata": {
        "id": "w7wD627AVMlG"
      }
    },
    {
      "cell_type": "code",
      "source": [
        "print(a1)\n",
        "print([a1[0],a1[2]])\n",
        "ind=[0,2]\n",
        "print(a1[ind])\n",
        "ind = np.array([[0,1],\n",
        "                [2,0]])\n",
        "print(a1[ind])"
      ],
      "metadata": {
        "id": "ZB2Xdb63TjWS",
        "outputId": "69963336-cce4-4566-8f49-98393f205e7f",
        "colab": {
          "base_uri": "https://localhost:8080/"
        }
      },
      "execution_count": 64,
      "outputs": [
        {
          "output_type": "stream",
          "name": "stdout",
          "text": [
            "[4 5 6 4 5]\n",
            "[4, 6]\n",
            "[4 6]\n",
            "[[4 5]\n",
            " [6 4]]\n"
          ]
        }
      ]
    },
    {
      "cell_type": "markdown",
      "source": [
        "배열 값 삽입/삭제 /수정/복사 "
      ],
      "metadata": {
        "id": "oM7Xr0AaWm88"
      }
    },
    {
      "cell_type": "code",
      "source": [
        "print(a1)\n",
        "b1=np.insert(a1,0,10) #insert 는 값이 변하지 않는다 \n",
        "print(b1)\n",
        "print(a1)"
      ],
      "metadata": {
        "id": "L4i72uNOVgtZ",
        "outputId": "9954f0a8-5d6f-4743-c74f-7550f6590fe3",
        "colab": {
          "base_uri": "https://localhost:8080/"
        }
      },
      "execution_count": 66,
      "outputs": [
        {
          "output_type": "stream",
          "name": "stdout",
          "text": [
            "[4 5 6 4 5]\n",
            "[10  4  5  6  4  5]\n",
            "[4 5 6 4 5]\n"
          ]
        }
      ]
    },
    {
      "cell_type": "code",
      "source": [
        "print(a2)\n",
        "b2=np.insert(a2,1,10,axis=0)\n",
        "print(b2)\n",
        "c2=np.insert(a2,1,10,axis=1)\n",
        "print(c2)"
      ],
      "metadata": {
        "id": "Wo-yjEvhYfwI",
        "outputId": "b258ef6e-0441-4041-f8d8-75c6f00fec28",
        "colab": {
          "base_uri": "https://localhost:8080/"
        }
      },
      "execution_count": 67,
      "outputs": [
        {
          "output_type": "stream",
          "name": "stdout",
          "text": [
            "[[1 2 3]\n",
            " [4 5 6]\n",
            " [7 8 9]]\n",
            "[[ 1  2  3]\n",
            " [10 10 10]\n",
            " [ 4  5  6]\n",
            " [ 7  8  9]]\n",
            "[[ 1 10  2  3]\n",
            " [ 4 10  5  6]\n",
            " [ 7 10  8  9]]\n"
          ]
        }
      ]
    },
    {
      "cell_type": "markdown",
      "source": [
        "배열 값 수정"
      ],
      "metadata": {
        "id": "opjGJMwKY1bM"
      }
    },
    {
      "cell_type": "code",
      "source": [
        "print(a1)\n",
        "a1[0]=1\n",
        "a1[1]=2\n",
        "a1[2]=3\n",
        "print(a1)\n",
        "a1[:1]=9\n",
        "print(a1)\n",
        "i=np.array([1,3,4])\n",
        "a1[i]=0\n",
        "print(a1)\n",
        "a1[i] += 4 #0인 값들이 4로 바뀐다 \n",
        "\n",
        "print(a1)"
      ],
      "metadata": {
        "id": "4lY56vs0Y0n2",
        "outputId": "63bf3d40-e53f-4303-b36f-921c2a950c15",
        "colab": {
          "base_uri": "https://localhost:8080/"
        }
      },
      "execution_count": 69,
      "outputs": [
        {
          "output_type": "stream",
          "name": "stdout",
          "text": [
            "[9 2 3 4 5]\n",
            "[1 2 3 4 5]\n",
            "[9 2 3 4 5]\n",
            "[9 0 3 0 0]\n"
          ]
        }
      ]
    },
    {
      "cell_type": "code",
      "source": [
        "print(a2)\n",
        "a2[0,0]=1\n",
        "a2[1,1]=2\n",
        "a2[2,2]=3\n",
        "a2[0]=1 #1번째 행은 1로 바꿈\n",
        "print(a2)\n",
        "#slicing\n",
        "a2[1;,2]=9\n",
        "print(a2)\n",
        "row=np.array([0,1])\n",
        "col=np.array([1,2])\n",
        "a2[row,col]=0\n",
        "print(a2)"
      ],
      "metadata": {
        "id": "dWqxSm2vZYMU",
        "outputId": "f1ba7923-3f03-4529-edc0-c0cf71c282af",
        "colab": {
          "base_uri": "https://localhost:8080/",
          "height": 136
        }
      },
      "execution_count": 71,
      "outputs": [
        {
          "output_type": "error",
          "ename": "SyntaxError",
          "evalue": "ignored",
          "traceback": [
            "\u001b[0;36m  File \u001b[0;32m\"<ipython-input-71-a8b966df71f1>\"\u001b[0;36m, line \u001b[0;32m8\u001b[0m\n\u001b[0;31m    a2[1;,2]=9\u001b[0m\n\u001b[0m        ^\u001b[0m\n\u001b[0;31mSyntaxError\u001b[0m\u001b[0;31m:\u001b[0m invalid syntax\n"
          ]
        }
      ]
    },
    {
      "cell_type": "markdown",
      "source": [
        "배열 값 삭제 \n"
      ],
      "metadata": {
        "id": "OuJdXvcybQqT"
      }
    },
    {
      "cell_type": "code",
      "source": [
        "print(a1)\n",
        "b1=np.delete(a1,1)\n",
        "print(b1)\n",
        "print(a1)"
      ],
      "metadata": {
        "id": "kXMItOJjbPru",
        "outputId": "19137ff3-24c8-4e5e-de65-c22112a47000",
        "colab": {
          "base_uri": "https://localhost:8080/"
        }
      },
      "execution_count": 73,
      "outputs": [
        {
          "output_type": "stream",
          "name": "stdout",
          "text": [
            "[9 0 3 0 0]\n",
            "[9 3 0 0]\n",
            "[9 0 3 0 0]\n"
          ]
        }
      ]
    },
    {
      "cell_type": "code",
      "source": [
        "print(a2)\n",
        "b2=np.delete(a2,1,axis=0)\n",
        "print(b2)\n",
        "c2=np.delete(a2,1,axis=1)\n",
        "print(c2)"
      ],
      "metadata": {
        "id": "3hhq66IXbeZq"
      },
      "execution_count": null,
      "outputs": []
    },
    {
      "cell_type": "markdown",
      "source": [
        "배열 복사 "
      ],
      "metadata": {
        "id": "E42mcpunbw7y"
      }
    },
    {
      "cell_type": "code",
      "source": [
        "print(a2)\n",
        "print"
      ],
      "metadata": {
        "id": "ICSam7Aybv33"
      },
      "execution_count": null,
      "outputs": []
    }
  ]
}