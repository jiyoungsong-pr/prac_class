{
  "nbformat": 4,
  "nbformat_minor": 0,
  "metadata": {
    "kernelspec": {
      "display_name": "junyoung",
      "language": "python",
      "name": "junyoung"
    },
    "language_info": {
      "codemirror_mode": {
        "name": "ipython",
        "version": 3
      },
      "file_extension": ".py",
      "mimetype": "text/x-python",
      "name": "python",
      "nbconvert_exporter": "python",
      "pygments_lexer": "ipython3",
      "version": "3.6.9"
    },
    "colab": {
      "name": "지영_arima",
      "provenance": [],
      "collapsed_sections": [],
      "include_colab_link": true
    }
  },
  "cells": [
    {
      "cell_type": "markdown",
      "metadata": {
        "id": "view-in-github",
        "colab_type": "text"
      },
      "source": [
        "<a href=\"https://colab.research.google.com/github/jiyoungsong-pr/prac_class/blob/main/%EC%A7%80%EC%98%81_arima.ipynb\" target=\"_parent\"><img src=\"https://colab.research.google.com/assets/colab-badge.svg\" alt=\"Open In Colab\"/></a>"
      ]
    },
    {
      "cell_type": "code",
      "metadata": {
        "colab": {
          "base_uri": "https://localhost:8080/"
        },
        "id": "acn0jlYRsrsE",
        "outputId": "60b9cc77-3d9f-449f-f424-2d1b95763f6b"
      },
      "source": [
        "#Library Imports\n",
        "import numpy as np\n",
        "import pandas as pd\n",
        "import math\n",
        "import os\n",
        "import matplotlib.pyplot as plt\n",
        "\n",
        "from sklearn.metrics import mean_absolute_error\n",
        "\n",
        "\n",
        "#######통계 라이브러리##########\n",
        "!pip install statsmodels\n",
        "import pandas as pd\n",
        "\n",
        "from statsmodels.tsa.arima_model import ARIMA"
      ],
      "execution_count": 6,
      "outputs": [
        {
          "output_type": "stream",
          "text": [
            "Requirement already satisfied: statsmodels in /usr/local/lib/python3.7/dist-packages (0.10.2)\n",
            "Requirement already satisfied: pandas>=0.19 in /usr/local/lib/python3.7/dist-packages (from statsmodels) (1.1.5)\n",
            "Requirement already satisfied: numpy>=1.11 in /usr/local/lib/python3.7/dist-packages (from statsmodels) (1.19.5)\n",
            "Requirement already satisfied: scipy>=0.18 in /usr/local/lib/python3.7/dist-packages (from statsmodels) (1.4.1)\n",
            "Requirement already satisfied: patsy>=0.4.0 in /usr/local/lib/python3.7/dist-packages (from statsmodels) (0.5.1)\n",
            "Requirement already satisfied: pytz>=2017.2 in /usr/local/lib/python3.7/dist-packages (from pandas>=0.19->statsmodels) (2018.9)\n",
            "Requirement already satisfied: python-dateutil>=2.7.3 in /usr/local/lib/python3.7/dist-packages (from pandas>=0.19->statsmodels) (2.8.1)\n",
            "Requirement already satisfied: six in /usr/local/lib/python3.7/dist-packages (from patsy>=0.4.0->statsmodels) (1.15.0)\n"
          ],
          "name": "stdout"
        }
      ]
    },
    {
      "cell_type": "code",
      "metadata": {
        "id": "hI72l90AwDoh"
      },
      "source": [
        ""
      ],
      "execution_count": null,
      "outputs": []
    },
    {
      "cell_type": "code",
      "metadata": {
        "colab": {
          "base_uri": "https://localhost:8080/"
        },
        "id": "-VUqXWd9mq3l",
        "outputId": "b62c6037-66d9-4b69-ea6d-e7d1542328c9"
      },
      "source": [
        "from google.colab import drive\n",
        "drive.mount('/content/drive')"
      ],
      "execution_count": 8,
      "outputs": [
        {
          "output_type": "stream",
          "text": [
            "Mounted at /content/drive\n"
          ],
          "name": "stdout"
        }
      ]
    },
    {
      "cell_type": "code",
      "metadata": {
        "id": "fQBwaVEzwMHn"
      },
      "source": [
        "import pandas as pd\n",
        "train=pd.read_csv('/content/new_train.csv')"
      ],
      "execution_count": 10,
      "outputs": []
    },
    {
      "cell_type": "code",
      "metadata": {
        "id": "WVt1HJLuw9Za"
      },
      "source": [
        "import pandas as pd\n",
        "test=pd.read_csv('/content/new_test.csv')"
      ],
      "execution_count": 11,
      "outputs": []
    },
    {
      "cell_type": "code",
      "metadata": {
        "id": "ehfBB1KcxH86"
      },
      "source": [
        "import pandas as pd\n",
        "submission =pd.read_csv('/content/sample_submission.csv')"
      ],
      "execution_count": 12,
      "outputs": []
    },
    {
      "cell_type": "code",
      "metadata": {
        "id": "0O1zqLSfxRFT"
      },
      "source": [
        ""
      ],
      "execution_count": null,
      "outputs": []
    },
    {
      "cell_type": "code",
      "metadata": {
        "id": "MlBUe49GsrsP"
      },
      "source": [
        "train=pd.read_csv('new_train.csv')\n",
        "test=pd.read_csv('new_test.csv')\n",
        "train['nelec_cool'].fillna(0, inplace=True)\n",
        "train['solar'].fillna(0, inplace=True)\n",
        "submission=pd.read_csv('sample_submission.csv')"
      ],
      "execution_count": 14,
      "outputs": []
    },
    {
      "cell_type": "code",
      "metadata": {
        "colab": {
          "base_uri": "https://localhost:8080/",
          "height": 758
        },
        "id": "yp0WfW7osrsS",
        "outputId": "65bb62c8-a123-48a5-a1f5-cc762f8554b0"
      },
      "source": [
        "#train.shape 122400 X 10\n",
        "#60개의 건물 X 85일 24시간 =122400\n",
        "train"
      ],
      "execution_count": 15,
      "outputs": [
        {
          "output_type": "execute_result",
          "data": {
            "text/html": [
              "<div>\n",
              "<style scoped>\n",
              "    .dataframe tbody tr th:only-of-type {\n",
              "        vertical-align: middle;\n",
              "    }\n",
              "\n",
              "    .dataframe tbody tr th {\n",
              "        vertical-align: top;\n",
              "    }\n",
              "\n",
              "    .dataframe thead th {\n",
              "        text-align: right;\n",
              "    }\n",
              "</style>\n",
              "<table border=\"1\" class=\"dataframe\">\n",
              "  <thead>\n",
              "    <tr style=\"text-align: right;\">\n",
              "      <th></th>\n",
              "      <th>num</th>\n",
              "      <th>date_time</th>\n",
              "      <th>target</th>\n",
              "      <th>temperature</th>\n",
              "      <th>windspeed</th>\n",
              "      <th>humidity</th>\n",
              "      <th>precipitation</th>\n",
              "      <th>insolation</th>\n",
              "      <th>nelec_cool</th>\n",
              "      <th>solar</th>\n",
              "      <th>hour</th>\n",
              "      <th>day</th>\n",
              "      <th>month</th>\n",
              "      <th>date</th>\n",
              "      <th>weekday</th>\n",
              "      <th>weekend</th>\n",
              "      <th>DI</th>\n",
              "      <th>DI_70</th>\n",
              "      <th>DI_75</th>\n",
              "      <th>DI_80</th>\n",
              "      <th>DI_83</th>\n",
              "      <th>DI_86</th>\n",
              "      <th>SL</th>\n",
              "      <th>CDH</th>\n",
              "      <th>TW</th>\n",
              "      <th>corona</th>\n",
              "    </tr>\n",
              "  </thead>\n",
              "  <tbody>\n",
              "    <tr>\n",
              "      <th>0</th>\n",
              "      <td>1</td>\n",
              "      <td>2020-06-01 00:00:00</td>\n",
              "      <td>8179.056</td>\n",
              "      <td>17.6</td>\n",
              "      <td>2.5</td>\n",
              "      <td>92.0</td>\n",
              "      <td>0.8</td>\n",
              "      <td>0.0</td>\n",
              "      <td>0.0</td>\n",
              "      <td>0.0</td>\n",
              "      <td>0</td>\n",
              "      <td>1</td>\n",
              "      <td>6</td>\n",
              "      <td>2020-06-01</td>\n",
              "      <td>0</td>\n",
              "      <td>0</td>\n",
              "      <td>63.43008</td>\n",
              "      <td>0</td>\n",
              "      <td>0</td>\n",
              "      <td>0</td>\n",
              "      <td>0</td>\n",
              "      <td>0</td>\n",
              "      <td>0.000000</td>\n",
              "      <td>-8.4</td>\n",
              "      <td>18.973374</td>\n",
              "      <td>1</td>\n",
              "    </tr>\n",
              "    <tr>\n",
              "      <th>1</th>\n",
              "      <td>1</td>\n",
              "      <td>2020-06-01 01:00:00</td>\n",
              "      <td>8135.640</td>\n",
              "      <td>17.7</td>\n",
              "      <td>2.9</td>\n",
              "      <td>91.0</td>\n",
              "      <td>0.3</td>\n",
              "      <td>0.0</td>\n",
              "      <td>0.0</td>\n",
              "      <td>0.0</td>\n",
              "      <td>1</td>\n",
              "      <td>1</td>\n",
              "      <td>6</td>\n",
              "      <td>2020-06-01</td>\n",
              "      <td>0</td>\n",
              "      <td>0</td>\n",
              "      <td>63.56993</td>\n",
              "      <td>0</td>\n",
              "      <td>0</td>\n",
              "      <td>0</td>\n",
              "      <td>0</td>\n",
              "      <td>0</td>\n",
              "      <td>0.000000</td>\n",
              "      <td>-16.7</td>\n",
              "      <td>18.960338</td>\n",
              "      <td>1</td>\n",
              "    </tr>\n",
              "    <tr>\n",
              "      <th>2</th>\n",
              "      <td>1</td>\n",
              "      <td>2020-06-01 02:00:00</td>\n",
              "      <td>8107.128</td>\n",
              "      <td>17.5</td>\n",
              "      <td>3.2</td>\n",
              "      <td>91.0</td>\n",
              "      <td>0.0</td>\n",
              "      <td>0.0</td>\n",
              "      <td>0.0</td>\n",
              "      <td>0.0</td>\n",
              "      <td>2</td>\n",
              "      <td>1</td>\n",
              "      <td>6</td>\n",
              "      <td>2020-06-01</td>\n",
              "      <td>0</td>\n",
              "      <td>0</td>\n",
              "      <td>63.22775</td>\n",
              "      <td>0</td>\n",
              "      <td>0</td>\n",
              "      <td>0</td>\n",
              "      <td>0</td>\n",
              "      <td>0</td>\n",
              "      <td>0.000000</td>\n",
              "      <td>-25.2</td>\n",
              "      <td>18.658598</td>\n",
              "      <td>1</td>\n",
              "    </tr>\n",
              "    <tr>\n",
              "      <th>3</th>\n",
              "      <td>1</td>\n",
              "      <td>2020-06-01 03:00:00</td>\n",
              "      <td>8048.808</td>\n",
              "      <td>17.1</td>\n",
              "      <td>3.2</td>\n",
              "      <td>91.0</td>\n",
              "      <td>0.0</td>\n",
              "      <td>0.0</td>\n",
              "      <td>0.0</td>\n",
              "      <td>0.0</td>\n",
              "      <td>3</td>\n",
              "      <td>1</td>\n",
              "      <td>6</td>\n",
              "      <td>2020-06-01</td>\n",
              "      <td>0</td>\n",
              "      <td>0</td>\n",
              "      <td>62.54339</td>\n",
              "      <td>0</td>\n",
              "      <td>0</td>\n",
              "      <td>0</td>\n",
              "      <td>0</td>\n",
              "      <td>0</td>\n",
              "      <td>0.000000</td>\n",
              "      <td>-34.1</td>\n",
              "      <td>18.218957</td>\n",
              "      <td>1</td>\n",
              "    </tr>\n",
              "    <tr>\n",
              "      <th>4</th>\n",
              "      <td>1</td>\n",
              "      <td>2020-06-01 04:00:00</td>\n",
              "      <td>8043.624</td>\n",
              "      <td>17.0</td>\n",
              "      <td>3.3</td>\n",
              "      <td>92.0</td>\n",
              "      <td>0.0</td>\n",
              "      <td>0.0</td>\n",
              "      <td>0.0</td>\n",
              "      <td>0.0</td>\n",
              "      <td>4</td>\n",
              "      <td>1</td>\n",
              "      <td>6</td>\n",
              "      <td>2020-06-01</td>\n",
              "      <td>0</td>\n",
              "      <td>0</td>\n",
              "      <td>62.39760</td>\n",
              "      <td>0</td>\n",
              "      <td>0</td>\n",
              "      <td>0</td>\n",
              "      <td>0</td>\n",
              "      <td>0</td>\n",
              "      <td>0.000000</td>\n",
              "      <td>-43.1</td>\n",
              "      <td>18.081523</td>\n",
              "      <td>1</td>\n",
              "    </tr>\n",
              "    <tr>\n",
              "      <th>...</th>\n",
              "      <td>...</td>\n",
              "      <td>...</td>\n",
              "      <td>...</td>\n",
              "      <td>...</td>\n",
              "      <td>...</td>\n",
              "      <td>...</td>\n",
              "      <td>...</td>\n",
              "      <td>...</td>\n",
              "      <td>...</td>\n",
              "      <td>...</td>\n",
              "      <td>...</td>\n",
              "      <td>...</td>\n",
              "      <td>...</td>\n",
              "      <td>...</td>\n",
              "      <td>...</td>\n",
              "      <td>...</td>\n",
              "      <td>...</td>\n",
              "      <td>...</td>\n",
              "      <td>...</td>\n",
              "      <td>...</td>\n",
              "      <td>...</td>\n",
              "      <td>...</td>\n",
              "      <td>...</td>\n",
              "      <td>...</td>\n",
              "      <td>...</td>\n",
              "      <td>...</td>\n",
              "    </tr>\n",
              "    <tr>\n",
              "      <th>122395</th>\n",
              "      <td>60</td>\n",
              "      <td>2020-08-24 19:00:00</td>\n",
              "      <td>4114.368</td>\n",
              "      <td>27.8</td>\n",
              "      <td>2.3</td>\n",
              "      <td>68.0</td>\n",
              "      <td>0.0</td>\n",
              "      <td>0.7</td>\n",
              "      <td>1.0</td>\n",
              "      <td>1.0</td>\n",
              "      <td>19</td>\n",
              "      <td>24</td>\n",
              "      <td>8</td>\n",
              "      <td>2020-08-24</td>\n",
              "      <td>0</td>\n",
              "      <td>0</td>\n",
              "      <td>77.80896</td>\n",
              "      <td>0</td>\n",
              "      <td>1</td>\n",
              "      <td>0</td>\n",
              "      <td>0</td>\n",
              "      <td>0</td>\n",
              "      <td>2.367647</td>\n",
              "      <td>30.8</td>\n",
              "      <td>30.000891</td>\n",
              "      <td>2</td>\n",
              "    </tr>\n",
              "    <tr>\n",
              "      <th>122396</th>\n",
              "      <td>60</td>\n",
              "      <td>2020-08-24 20:00:00</td>\n",
              "      <td>3975.696</td>\n",
              "      <td>27.3</td>\n",
              "      <td>1.2</td>\n",
              "      <td>71.0</td>\n",
              "      <td>0.0</td>\n",
              "      <td>0.0</td>\n",
              "      <td>1.0</td>\n",
              "      <td>1.0</td>\n",
              "      <td>20</td>\n",
              "      <td>24</td>\n",
              "      <td>8</td>\n",
              "      <td>2020-08-24</td>\n",
              "      <td>0</td>\n",
              "      <td>0</td>\n",
              "      <td>77.44917</td>\n",
              "      <td>0</td>\n",
              "      <td>1</td>\n",
              "      <td>0</td>\n",
              "      <td>0</td>\n",
              "      <td>0</td>\n",
              "      <td>0.000000</td>\n",
              "      <td>32.3</td>\n",
              "      <td>29.525251</td>\n",
              "      <td>2</td>\n",
              "    </tr>\n",
              "    <tr>\n",
              "      <th>122397</th>\n",
              "      <td>60</td>\n",
              "      <td>2020-08-24 21:00:00</td>\n",
              "      <td>3572.208</td>\n",
              "      <td>27.3</td>\n",
              "      <td>1.8</td>\n",
              "      <td>71.0</td>\n",
              "      <td>0.0</td>\n",
              "      <td>0.0</td>\n",
              "      <td>1.0</td>\n",
              "      <td>1.0</td>\n",
              "      <td>21</td>\n",
              "      <td>24</td>\n",
              "      <td>8</td>\n",
              "      <td>2020-08-24</td>\n",
              "      <td>0</td>\n",
              "      <td>0</td>\n",
              "      <td>77.44917</td>\n",
              "      <td>0</td>\n",
              "      <td>1</td>\n",
              "      <td>0</td>\n",
              "      <td>0</td>\n",
              "      <td>0</td>\n",
              "      <td>0.000000</td>\n",
              "      <td>32.5</td>\n",
              "      <td>29.487603</td>\n",
              "      <td>2</td>\n",
              "    </tr>\n",
              "    <tr>\n",
              "      <th>122398</th>\n",
              "      <td>60</td>\n",
              "      <td>2020-08-24 22:00:00</td>\n",
              "      <td>3299.184</td>\n",
              "      <td>27.1</td>\n",
              "      <td>1.8</td>\n",
              "      <td>74.0</td>\n",
              "      <td>0.0</td>\n",
              "      <td>0.0</td>\n",
              "      <td>1.0</td>\n",
              "      <td>1.0</td>\n",
              "      <td>22</td>\n",
              "      <td>24</td>\n",
              "      <td>8</td>\n",
              "      <td>2020-08-24</td>\n",
              "      <td>0</td>\n",
              "      <td>0</td>\n",
              "      <td>77.52246</td>\n",
              "      <td>0</td>\n",
              "      <td>1</td>\n",
              "      <td>0</td>\n",
              "      <td>0</td>\n",
              "      <td>0</td>\n",
              "      <td>0.000000</td>\n",
              "      <td>31.3</td>\n",
              "      <td>29.276183</td>\n",
              "      <td>2</td>\n",
              "    </tr>\n",
              "    <tr>\n",
              "      <th>122399</th>\n",
              "      <td>60</td>\n",
              "      <td>2020-08-24 23:00:00</td>\n",
              "      <td>3204.576</td>\n",
              "      <td>27.1</td>\n",
              "      <td>2.6</td>\n",
              "      <td>75.0</td>\n",
              "      <td>0.0</td>\n",
              "      <td>0.0</td>\n",
              "      <td>1.0</td>\n",
              "      <td>1.0</td>\n",
              "      <td>23</td>\n",
              "      <td>24</td>\n",
              "      <td>8</td>\n",
              "      <td>2020-08-24</td>\n",
              "      <td>0</td>\n",
              "      <td>0</td>\n",
              "      <td>77.64775</td>\n",
              "      <td>0</td>\n",
              "      <td>1</td>\n",
              "      <td>0</td>\n",
              "      <td>0</td>\n",
              "      <td>0</td>\n",
              "      <td>0.000000</td>\n",
              "      <td>29.2</td>\n",
              "      <td>29.234583</td>\n",
              "      <td>2</td>\n",
              "    </tr>\n",
              "  </tbody>\n",
              "</table>\n",
              "<p>122400 rows × 26 columns</p>\n",
              "</div>"
            ],
            "text/plain": [
              "        num            date_time    target  ...   CDH         TW  corona\n",
              "0         1  2020-06-01 00:00:00  8179.056  ...  -8.4  18.973374       1\n",
              "1         1  2020-06-01 01:00:00  8135.640  ... -16.7  18.960338       1\n",
              "2         1  2020-06-01 02:00:00  8107.128  ... -25.2  18.658598       1\n",
              "3         1  2020-06-01 03:00:00  8048.808  ... -34.1  18.218957       1\n",
              "4         1  2020-06-01 04:00:00  8043.624  ... -43.1  18.081523       1\n",
              "...     ...                  ...       ...  ...   ...        ...     ...\n",
              "122395   60  2020-08-24 19:00:00  4114.368  ...  30.8  30.000891       2\n",
              "122396   60  2020-08-24 20:00:00  3975.696  ...  32.3  29.525251       2\n",
              "122397   60  2020-08-24 21:00:00  3572.208  ...  32.5  29.487603       2\n",
              "122398   60  2020-08-24 22:00:00  3299.184  ...  31.3  29.276183       2\n",
              "122399   60  2020-08-24 23:00:00  3204.576  ...  29.2  29.234583       2\n",
              "\n",
              "[122400 rows x 26 columns]"
            ]
          },
          "metadata": {
            "tags": []
          },
          "execution_count": 15
        }
      ]
    },
    {
      "cell_type": "code",
      "metadata": {
        "colab": {
          "base_uri": "https://localhost:8080/",
          "height": 758
        },
        "id": "LXNepS5vsrsV",
        "outputId": "f1d3aac3-4d3e-4ab3-eb1a-d6ec7808ce0e"
      },
      "source": [
        "#test.shape 10080 X 9\n",
        "#60개의 건물 X 7일 24시간 =10080\n",
        "test"
      ],
      "execution_count": 16,
      "outputs": [
        {
          "output_type": "execute_result",
          "data": {
            "text/html": [
              "<div>\n",
              "<style scoped>\n",
              "    .dataframe tbody tr th:only-of-type {\n",
              "        vertical-align: middle;\n",
              "    }\n",
              "\n",
              "    .dataframe tbody tr th {\n",
              "        vertical-align: top;\n",
              "    }\n",
              "\n",
              "    .dataframe thead th {\n",
              "        text-align: right;\n",
              "    }\n",
              "</style>\n",
              "<table border=\"1\" class=\"dataframe\">\n",
              "  <thead>\n",
              "    <tr style=\"text-align: right;\">\n",
              "      <th></th>\n",
              "      <th>num</th>\n",
              "      <th>date_time</th>\n",
              "      <th>temperature</th>\n",
              "      <th>windspeed</th>\n",
              "      <th>humidity</th>\n",
              "      <th>precipitation</th>\n",
              "      <th>insolation</th>\n",
              "      <th>nelec_cool</th>\n",
              "      <th>solar</th>\n",
              "      <th>hour</th>\n",
              "      <th>day</th>\n",
              "      <th>month</th>\n",
              "      <th>date</th>\n",
              "      <th>weekday</th>\n",
              "      <th>weekend</th>\n",
              "      <th>DI</th>\n",
              "      <th>DI_70</th>\n",
              "      <th>DI_75</th>\n",
              "      <th>DI_80</th>\n",
              "      <th>DI_83</th>\n",
              "      <th>DI_86</th>\n",
              "      <th>SL</th>\n",
              "      <th>CDH</th>\n",
              "      <th>TW</th>\n",
              "      <th>corona</th>\n",
              "    </tr>\n",
              "  </thead>\n",
              "  <tbody>\n",
              "    <tr>\n",
              "      <th>0</th>\n",
              "      <td>1</td>\n",
              "      <td>2020-08-25 00:00:00</td>\n",
              "      <td>27.800000</td>\n",
              "      <td>1.500000</td>\n",
              "      <td>74.000000</td>\n",
              "      <td>0.0</td>\n",
              "      <td>0.000000</td>\n",
              "      <td>0</td>\n",
              "      <td>0</td>\n",
              "      <td>0</td>\n",
              "      <td>25</td>\n",
              "      <td>8</td>\n",
              "      <td>2020-08-25</td>\n",
              "      <td>1</td>\n",
              "      <td>0</td>\n",
              "      <td>78.602280</td>\n",
              "      <td>0</td>\n",
              "      <td>1</td>\n",
              "      <td>0</td>\n",
              "      <td>0</td>\n",
              "      <td>0</td>\n",
              "      <td>0.000000</td>\n",
              "      <td>1.800000</td>\n",
              "      <td>30.027122</td>\n",
              "      <td>2</td>\n",
              "    </tr>\n",
              "    <tr>\n",
              "      <th>1</th>\n",
              "      <td>1</td>\n",
              "      <td>2020-08-25 01:00:00</td>\n",
              "      <td>27.633333</td>\n",
              "      <td>1.366667</td>\n",
              "      <td>75.333333</td>\n",
              "      <td>0.0</td>\n",
              "      <td>0.000000</td>\n",
              "      <td>0</td>\n",
              "      <td>0</td>\n",
              "      <td>1</td>\n",
              "      <td>25</td>\n",
              "      <td>8</td>\n",
              "      <td>2020-08-25</td>\n",
              "      <td>1</td>\n",
              "      <td>0</td>\n",
              "      <td>78.519273</td>\n",
              "      <td>0</td>\n",
              "      <td>1</td>\n",
              "      <td>0</td>\n",
              "      <td>0</td>\n",
              "      <td>0</td>\n",
              "      <td>0.000000</td>\n",
              "      <td>3.433333</td>\n",
              "      <td>29.859547</td>\n",
              "      <td>2</td>\n",
              "    </tr>\n",
              "    <tr>\n",
              "      <th>2</th>\n",
              "      <td>1</td>\n",
              "      <td>2020-08-25 02:00:00</td>\n",
              "      <td>27.466667</td>\n",
              "      <td>1.233333</td>\n",
              "      <td>76.666667</td>\n",
              "      <td>0.0</td>\n",
              "      <td>0.000000</td>\n",
              "      <td>0</td>\n",
              "      <td>0</td>\n",
              "      <td>2</td>\n",
              "      <td>25</td>\n",
              "      <td>8</td>\n",
              "      <td>2020-08-25</td>\n",
              "      <td>1</td>\n",
              "      <td>0</td>\n",
              "      <td>78.431867</td>\n",
              "      <td>0</td>\n",
              "      <td>1</td>\n",
              "      <td>0</td>\n",
              "      <td>0</td>\n",
              "      <td>0</td>\n",
              "      <td>0.000000</td>\n",
              "      <td>4.900000</td>\n",
              "      <td>29.694705</td>\n",
              "      <td>2</td>\n",
              "    </tr>\n",
              "    <tr>\n",
              "      <th>3</th>\n",
              "      <td>1</td>\n",
              "      <td>2020-08-25 03:00:00</td>\n",
              "      <td>27.300000</td>\n",
              "      <td>1.100000</td>\n",
              "      <td>78.000000</td>\n",
              "      <td>0.0</td>\n",
              "      <td>0.000000</td>\n",
              "      <td>0</td>\n",
              "      <td>0</td>\n",
              "      <td>3</td>\n",
              "      <td>25</td>\n",
              "      <td>8</td>\n",
              "      <td>2020-08-25</td>\n",
              "      <td>1</td>\n",
              "      <td>0</td>\n",
              "      <td>78.340060</td>\n",
              "      <td>0</td>\n",
              "      <td>1</td>\n",
              "      <td>0</td>\n",
              "      <td>0</td>\n",
              "      <td>0</td>\n",
              "      <td>0.000000</td>\n",
              "      <td>6.200000</td>\n",
              "      <td>29.533017</td>\n",
              "      <td>2</td>\n",
              "    </tr>\n",
              "    <tr>\n",
              "      <th>4</th>\n",
              "      <td>1</td>\n",
              "      <td>2020-08-25 04:00:00</td>\n",
              "      <td>26.900000</td>\n",
              "      <td>1.166667</td>\n",
              "      <td>79.666667</td>\n",
              "      <td>0.0</td>\n",
              "      <td>0.000000</td>\n",
              "      <td>0</td>\n",
              "      <td>0</td>\n",
              "      <td>4</td>\n",
              "      <td>25</td>\n",
              "      <td>8</td>\n",
              "      <td>2020-08-25</td>\n",
              "      <td>1</td>\n",
              "      <td>0</td>\n",
              "      <td>77.912697</td>\n",
              "      <td>0</td>\n",
              "      <td>1</td>\n",
              "      <td>0</td>\n",
              "      <td>0</td>\n",
              "      <td>0</td>\n",
              "      <td>0.000000</td>\n",
              "      <td>7.100000</td>\n",
              "      <td>29.116617</td>\n",
              "      <td>2</td>\n",
              "    </tr>\n",
              "    <tr>\n",
              "      <th>...</th>\n",
              "      <td>...</td>\n",
              "      <td>...</td>\n",
              "      <td>...</td>\n",
              "      <td>...</td>\n",
              "      <td>...</td>\n",
              "      <td>...</td>\n",
              "      <td>...</td>\n",
              "      <td>...</td>\n",
              "      <td>...</td>\n",
              "      <td>...</td>\n",
              "      <td>...</td>\n",
              "      <td>...</td>\n",
              "      <td>...</td>\n",
              "      <td>...</td>\n",
              "      <td>...</td>\n",
              "      <td>...</td>\n",
              "      <td>...</td>\n",
              "      <td>...</td>\n",
              "      <td>...</td>\n",
              "      <td>...</td>\n",
              "      <td>...</td>\n",
              "      <td>...</td>\n",
              "      <td>...</td>\n",
              "      <td>...</td>\n",
              "      <td>...</td>\n",
              "    </tr>\n",
              "    <tr>\n",
              "      <th>10075</th>\n",
              "      <td>60</td>\n",
              "      <td>2020-08-31 19:00:00</td>\n",
              "      <td>28.633333</td>\n",
              "      <td>3.566667</td>\n",
              "      <td>66.000000</td>\n",
              "      <td>0.0</td>\n",
              "      <td>0.533333</td>\n",
              "      <td>1</td>\n",
              "      <td>1</td>\n",
              "      <td>19</td>\n",
              "      <td>31</td>\n",
              "      <td>8</td>\n",
              "      <td>2020-08-31</td>\n",
              "      <td>0</td>\n",
              "      <td>0</td>\n",
              "      <td>78.764020</td>\n",
              "      <td>0</td>\n",
              "      <td>1</td>\n",
              "      <td>0</td>\n",
              "      <td>0</td>\n",
              "      <td>0</td>\n",
              "      <td>2.882155</td>\n",
              "      <td>22.400000</td>\n",
              "      <td>30.894924</td>\n",
              "      <td>2</td>\n",
              "    </tr>\n",
              "    <tr>\n",
              "      <th>10076</th>\n",
              "      <td>60</td>\n",
              "      <td>2020-08-31 20:00:00</td>\n",
              "      <td>28.266667</td>\n",
              "      <td>3.833333</td>\n",
              "      <td>67.000000</td>\n",
              "      <td>0.0</td>\n",
              "      <td>0.266667</td>\n",
              "      <td>1</td>\n",
              "      <td>1</td>\n",
              "      <td>20</td>\n",
              "      <td>31</td>\n",
              "      <td>8</td>\n",
              "      <td>2020-08-31</td>\n",
              "      <td>0</td>\n",
              "      <td>0</td>\n",
              "      <td>78.364280</td>\n",
              "      <td>0</td>\n",
              "      <td>1</td>\n",
              "      <td>0</td>\n",
              "      <td>0</td>\n",
              "      <td>0</td>\n",
              "      <td>1.525705</td>\n",
              "      <td>25.400000</td>\n",
              "      <td>30.486546</td>\n",
              "      <td>2</td>\n",
              "    </tr>\n",
              "    <tr>\n",
              "      <th>10077</th>\n",
              "      <td>60</td>\n",
              "      <td>2020-08-31 21:00:00</td>\n",
              "      <td>27.900000</td>\n",
              "      <td>4.100000</td>\n",
              "      <td>68.000000</td>\n",
              "      <td>0.0</td>\n",
              "      <td>0.000000</td>\n",
              "      <td>1</td>\n",
              "      <td>1</td>\n",
              "      <td>21</td>\n",
              "      <td>31</td>\n",
              "      <td>8</td>\n",
              "      <td>2020-08-31</td>\n",
              "      <td>0</td>\n",
              "      <td>0</td>\n",
              "      <td>77.957280</td>\n",
              "      <td>0</td>\n",
              "      <td>1</td>\n",
              "      <td>0</td>\n",
              "      <td>0</td>\n",
              "      <td>0</td>\n",
              "      <td>0.000000</td>\n",
              "      <td>27.700000</td>\n",
              "      <td>30.074281</td>\n",
              "      <td>2</td>\n",
              "    </tr>\n",
              "    <tr>\n",
              "      <th>10078</th>\n",
              "      <td>60</td>\n",
              "      <td>2020-08-31 22:00:00</td>\n",
              "      <td>27.900000</td>\n",
              "      <td>4.100000</td>\n",
              "      <td>68.000000</td>\n",
              "      <td>0.0</td>\n",
              "      <td>0.000000</td>\n",
              "      <td>1</td>\n",
              "      <td>1</td>\n",
              "      <td>22</td>\n",
              "      <td>31</td>\n",
              "      <td>8</td>\n",
              "      <td>2020-08-31</td>\n",
              "      <td>0</td>\n",
              "      <td>0</td>\n",
              "      <td>77.957280</td>\n",
              "      <td>0</td>\n",
              "      <td>1</td>\n",
              "      <td>0</td>\n",
              "      <td>0</td>\n",
              "      <td>0</td>\n",
              "      <td>0.000000</td>\n",
              "      <td>29.300000</td>\n",
              "      <td>30.074281</td>\n",
              "      <td>2</td>\n",
              "    </tr>\n",
              "    <tr>\n",
              "      <th>10079</th>\n",
              "      <td>60</td>\n",
              "      <td>2020-08-31 23:00:00</td>\n",
              "      <td>27.900000</td>\n",
              "      <td>4.100000</td>\n",
              "      <td>68.000000</td>\n",
              "      <td>0.0</td>\n",
              "      <td>0.000000</td>\n",
              "      <td>1</td>\n",
              "      <td>1</td>\n",
              "      <td>23</td>\n",
              "      <td>31</td>\n",
              "      <td>8</td>\n",
              "      <td>2020-08-31</td>\n",
              "      <td>0</td>\n",
              "      <td>0</td>\n",
              "      <td>77.957280</td>\n",
              "      <td>0</td>\n",
              "      <td>1</td>\n",
              "      <td>0</td>\n",
              "      <td>0</td>\n",
              "      <td>0</td>\n",
              "      <td>0.000000</td>\n",
              "      <td>30.200000</td>\n",
              "      <td>30.074281</td>\n",
              "      <td>2</td>\n",
              "    </tr>\n",
              "  </tbody>\n",
              "</table>\n",
              "<p>10080 rows × 25 columns</p>\n",
              "</div>"
            ],
            "text/plain": [
              "       num            date_time  temperature  ...        CDH         TW  corona\n",
              "0        1  2020-08-25 00:00:00    27.800000  ...   1.800000  30.027122       2\n",
              "1        1  2020-08-25 01:00:00    27.633333  ...   3.433333  29.859547       2\n",
              "2        1  2020-08-25 02:00:00    27.466667  ...   4.900000  29.694705       2\n",
              "3        1  2020-08-25 03:00:00    27.300000  ...   6.200000  29.533017       2\n",
              "4        1  2020-08-25 04:00:00    26.900000  ...   7.100000  29.116617       2\n",
              "...    ...                  ...          ...  ...        ...        ...     ...\n",
              "10075   60  2020-08-31 19:00:00    28.633333  ...  22.400000  30.894924       2\n",
              "10076   60  2020-08-31 20:00:00    28.266667  ...  25.400000  30.486546       2\n",
              "10077   60  2020-08-31 21:00:00    27.900000  ...  27.700000  30.074281       2\n",
              "10078   60  2020-08-31 22:00:00    27.900000  ...  29.300000  30.074281       2\n",
              "10079   60  2020-08-31 23:00:00    27.900000  ...  30.200000  30.074281       2\n",
              "\n",
              "[10080 rows x 25 columns]"
            ]
          },
          "metadata": {
            "tags": []
          },
          "execution_count": 16
        }
      ]
    },
    {
      "cell_type": "markdown",
      "metadata": {
        "id": "go-3yg9QsrsX"
      },
      "source": [
        "# **모델링**"
      ]
    },
    {
      "cell_type": "code",
      "metadata": {
        "colab": {
          "base_uri": "https://localhost:8080/"
        },
        "id": "YFQYf88tyh2v",
        "outputId": "d9758d91-c65a-483d-e45d-2c09bb4408ea"
      },
      "source": [
        "# 1번 군집 \n",
        "list1 = [1, 31, 30, 60, 3, 5, 24,32, 33, 15]\n",
        "cl1 = train.drop([ 'date'], axis = 1)\n",
        "cl1 = cl1[cl1['num'].isin(list1)==True]\n",
        "#cl1 = train[train['num'].isin(list1)==True]\n",
        "print(train.shape, cl1.shape)\n",
        "print('1번 군집은 전체 데이터의 {0:.2f}'.format(cl1.shape[0]/train.shape[0] *100 )+' %를 차지함')"
      ],
      "execution_count": 46,
      "outputs": [
        {
          "output_type": "stream",
          "text": [
            "(122400, 26) (20400, 25)\n",
            "1번 군집은 전체 데이터의 16.67 %를 차지함\n"
          ],
          "name": "stdout"
        }
      ]
    },
    {
      "cell_type": "code",
      "metadata": {
        "colab": {
          "base_uri": "https://localhost:8080/"
        },
        "id": "JZO96E--ymSe",
        "outputId": "6857a713-4ee3-4aa8-bac7-bb99276d7ccd"
      },
      "source": [
        "# 2번 군집 \n",
        "list1 = [2, 6, 7, 8, 13, 14, 16, 17, 18, 22, 23, 25, 26, 27, 37, 46, 47, 48, 52, 53, 54, 55, 56, 57 ,35, 38, 43, 44, 39, 45]\n",
        "cl2 = train.drop(['date'], axis = 1)\n",
        "cl2 = cl2[cl2['num'].isin(list1)==True]\n",
        "#cl2 = train[train['num'].isin(list1)==True]\n",
        "print(train.shape, cl2.shape)\n",
        "print('2번 군집은 전체 데이터의 {0:.2f}'.format(cl2.shape[0]/train.shape[0] *100 )+' %를 차지함')"
      ],
      "execution_count": 47,
      "outputs": [
        {
          "output_type": "stream",
          "text": [
            "(122400, 26) (61200, 25)\n",
            "2번 군집은 전체 데이터의 50.00 %를 차지함\n"
          ],
          "name": "stdout"
        }
      ]
    },
    {
      "cell_type": "code",
      "metadata": {
        "colab": {
          "base_uri": "https://localhost:8080/"
        },
        "id": "Bv5L4x_SyrYg",
        "outputId": "1ecbb163-0343-44a8-9e1c-7da28c6ffb49"
      },
      "source": [
        "# 3번 군집\n",
        "l2 = [19,20,21,29,36,40,41,49,50,58,59]\n",
        "cl3 = train.drop([ 'date'], axis = 1)\n",
        "cl3 = cl3[cl3['num'].isin(l2)==True]\n",
        "#cl3 = train[train['num'].isin(l2)==True]\n",
        "print(train.shape, cl3.shape)\n",
        "print('3번 군집은 전체 데이터의 {0:.2f}'.format(cl3.shape[0]/train.shape[0] *100 )+' %를 차지함')"
      ],
      "execution_count": 48,
      "outputs": [
        {
          "output_type": "stream",
          "text": [
            "(122400, 26) (22440, 25)\n",
            "3번 군집은 전체 데이터의 18.33 %를 차지함\n"
          ],
          "name": "stdout"
        }
      ]
    },
    {
      "cell_type": "code",
      "metadata": {
        "colab": {
          "base_uri": "https://localhost:8080/"
        },
        "id": "VMoHFUcnyym5",
        "outputId": "5d1e27a5-5a87-4e97-ba1e-2be76550f3ca"
      },
      "source": [
        "# 4번 군집\n",
        "l3 = [14,9,10,11,12,30,42]\n",
        "cl4 = train.drop([ 'date'], axis = 1)\n",
        "cl4 = cl4[cl4['num'].isin(l3)==True]\n",
        "#cl4 = train[train['num'].isin(l3)==True]\n",
        "print(train.shape, cl4.shape)\n",
        "print('4번 군집은 전체 데이터의 {0:.2f}'.format(cl4.shape[0]/train.shape[0] *100 )+' %를 차지함')"
      ],
      "execution_count": 49,
      "outputs": [
        {
          "output_type": "stream",
          "text": [
            "(122400, 26) (14280, 25)\n",
            "4번 군집은 전체 데이터의 11.67 %를 차지함\n"
          ],
          "name": "stdout"
        }
      ]
    },
    {
      "cell_type": "code",
      "metadata": {
        "colab": {
          "base_uri": "https://localhost:8080/"
        },
        "id": "T0G5qRFtyz-W",
        "outputId": "58413c33-bef5-4813-cd3c-b0a28acf749f"
      },
      "source": [
        "# 5번 군집\n",
        "l4 = [5,21,28,32,51, 34]\n",
        "cl5 = train.drop(['date'], axis = 1)\n",
        "cl5 = cl5[cl5['num'].isin(l4)==True]\n",
        "#cl5 = train[train['num'].isin(l4)==True]\n",
        "print(train.shape, cl5.shape)\n",
        "print('5번 군집은 전체 데이터의 {0:.2f}'.format(cl5.shape[0]/train.shape[0] *100 )+' %를 차지함')"
      ],
      "execution_count": 51,
      "outputs": [
        {
          "output_type": "stream",
          "text": [
            "(122400, 26) (12240, 25)\n",
            "5번 군집은 전체 데이터의 10.00 %를 차지함\n"
          ],
          "name": "stdout"
        }
      ]
    },
    {
      "cell_type": "code",
      "metadata": {
        "id": "SCAxh1ljy75X"
      },
      "source": [
        "# 군집 5개 완성!\n",
        "cl1.reset_index(inplace=True, drop=True)\n",
        "cl2.reset_index(inplace=True, drop=True)\n",
        "cl3.reset_index(inplace=True, drop=True)\n",
        "cl4.reset_index(inplace=True, drop=True)\n",
        "cl5.reset_index(inplace=True, drop=True)"
      ],
      "execution_count": 52,
      "outputs": []
    },
    {
      "cell_type": "code",
      "metadata": {
        "colab": {
          "base_uri": "https://localhost:8080/"
        },
        "id": "jskKhtndy_LS",
        "outputId": "90be0be3-994c-4e22-a14f-81d55cacb4b9"
      },
      "source": [
        "# 군집별 데이터 수가 적어서 k-fold 하는 걸로 \n",
        "print(cl1.shape[0],cl2.shape[0],cl3.shape[0],cl4.shape[0],cl5.shape[0])"
      ],
      "execution_count": 53,
      "outputs": [
        {
          "output_type": "stream",
          "text": [
            "20400 61200 22440 14280 12240\n"
          ],
          "name": "stdout"
        }
      ]
    },
    {
      "cell_type": "code",
      "metadata": {
        "colab": {
          "base_uri": "https://localhost:8080/",
          "height": 383
        },
        "id": "c_4gT-B9zB6n",
        "outputId": "e3096644-71d6-4ae0-cc05-23b50a3d9cfe"
      },
      "source": [
        "train.head()"
      ],
      "execution_count": 54,
      "outputs": [
        {
          "output_type": "execute_result",
          "data": {
            "text/html": [
              "<div>\n",
              "<style scoped>\n",
              "    .dataframe tbody tr th:only-of-type {\n",
              "        vertical-align: middle;\n",
              "    }\n",
              "\n",
              "    .dataframe tbody tr th {\n",
              "        vertical-align: top;\n",
              "    }\n",
              "\n",
              "    .dataframe thead th {\n",
              "        text-align: right;\n",
              "    }\n",
              "</style>\n",
              "<table border=\"1\" class=\"dataframe\">\n",
              "  <thead>\n",
              "    <tr style=\"text-align: right;\">\n",
              "      <th></th>\n",
              "      <th>num</th>\n",
              "      <th>date_time</th>\n",
              "      <th>target</th>\n",
              "      <th>temperature</th>\n",
              "      <th>windspeed</th>\n",
              "      <th>humidity</th>\n",
              "      <th>precipitation</th>\n",
              "      <th>insolation</th>\n",
              "      <th>nelec_cool</th>\n",
              "      <th>solar</th>\n",
              "      <th>hour</th>\n",
              "      <th>day</th>\n",
              "      <th>month</th>\n",
              "      <th>date</th>\n",
              "      <th>weekday</th>\n",
              "      <th>weekend</th>\n",
              "      <th>DI</th>\n",
              "      <th>DI_70</th>\n",
              "      <th>DI_75</th>\n",
              "      <th>DI_80</th>\n",
              "      <th>DI_83</th>\n",
              "      <th>DI_86</th>\n",
              "      <th>SL</th>\n",
              "      <th>CDH</th>\n",
              "      <th>TW</th>\n",
              "      <th>corona</th>\n",
              "    </tr>\n",
              "  </thead>\n",
              "  <tbody>\n",
              "    <tr>\n",
              "      <th>0</th>\n",
              "      <td>1</td>\n",
              "      <td>2020-06-01 00:00:00</td>\n",
              "      <td>8179.056</td>\n",
              "      <td>17.6</td>\n",
              "      <td>2.5</td>\n",
              "      <td>92.0</td>\n",
              "      <td>0.8</td>\n",
              "      <td>0.0</td>\n",
              "      <td>0.0</td>\n",
              "      <td>0.0</td>\n",
              "      <td>0</td>\n",
              "      <td>1</td>\n",
              "      <td>6</td>\n",
              "      <td>2020-06-01</td>\n",
              "      <td>0</td>\n",
              "      <td>0</td>\n",
              "      <td>63.43008</td>\n",
              "      <td>0</td>\n",
              "      <td>0</td>\n",
              "      <td>0</td>\n",
              "      <td>0</td>\n",
              "      <td>0</td>\n",
              "      <td>0.0</td>\n",
              "      <td>-8.4</td>\n",
              "      <td>18.973374</td>\n",
              "      <td>1</td>\n",
              "    </tr>\n",
              "    <tr>\n",
              "      <th>1</th>\n",
              "      <td>1</td>\n",
              "      <td>2020-06-01 01:00:00</td>\n",
              "      <td>8135.640</td>\n",
              "      <td>17.7</td>\n",
              "      <td>2.9</td>\n",
              "      <td>91.0</td>\n",
              "      <td>0.3</td>\n",
              "      <td>0.0</td>\n",
              "      <td>0.0</td>\n",
              "      <td>0.0</td>\n",
              "      <td>1</td>\n",
              "      <td>1</td>\n",
              "      <td>6</td>\n",
              "      <td>2020-06-01</td>\n",
              "      <td>0</td>\n",
              "      <td>0</td>\n",
              "      <td>63.56993</td>\n",
              "      <td>0</td>\n",
              "      <td>0</td>\n",
              "      <td>0</td>\n",
              "      <td>0</td>\n",
              "      <td>0</td>\n",
              "      <td>0.0</td>\n",
              "      <td>-16.7</td>\n",
              "      <td>18.960338</td>\n",
              "      <td>1</td>\n",
              "    </tr>\n",
              "    <tr>\n",
              "      <th>2</th>\n",
              "      <td>1</td>\n",
              "      <td>2020-06-01 02:00:00</td>\n",
              "      <td>8107.128</td>\n",
              "      <td>17.5</td>\n",
              "      <td>3.2</td>\n",
              "      <td>91.0</td>\n",
              "      <td>0.0</td>\n",
              "      <td>0.0</td>\n",
              "      <td>0.0</td>\n",
              "      <td>0.0</td>\n",
              "      <td>2</td>\n",
              "      <td>1</td>\n",
              "      <td>6</td>\n",
              "      <td>2020-06-01</td>\n",
              "      <td>0</td>\n",
              "      <td>0</td>\n",
              "      <td>63.22775</td>\n",
              "      <td>0</td>\n",
              "      <td>0</td>\n",
              "      <td>0</td>\n",
              "      <td>0</td>\n",
              "      <td>0</td>\n",
              "      <td>0.0</td>\n",
              "      <td>-25.2</td>\n",
              "      <td>18.658598</td>\n",
              "      <td>1</td>\n",
              "    </tr>\n",
              "    <tr>\n",
              "      <th>3</th>\n",
              "      <td>1</td>\n",
              "      <td>2020-06-01 03:00:00</td>\n",
              "      <td>8048.808</td>\n",
              "      <td>17.1</td>\n",
              "      <td>3.2</td>\n",
              "      <td>91.0</td>\n",
              "      <td>0.0</td>\n",
              "      <td>0.0</td>\n",
              "      <td>0.0</td>\n",
              "      <td>0.0</td>\n",
              "      <td>3</td>\n",
              "      <td>1</td>\n",
              "      <td>6</td>\n",
              "      <td>2020-06-01</td>\n",
              "      <td>0</td>\n",
              "      <td>0</td>\n",
              "      <td>62.54339</td>\n",
              "      <td>0</td>\n",
              "      <td>0</td>\n",
              "      <td>0</td>\n",
              "      <td>0</td>\n",
              "      <td>0</td>\n",
              "      <td>0.0</td>\n",
              "      <td>-34.1</td>\n",
              "      <td>18.218957</td>\n",
              "      <td>1</td>\n",
              "    </tr>\n",
              "    <tr>\n",
              "      <th>4</th>\n",
              "      <td>1</td>\n",
              "      <td>2020-06-01 04:00:00</td>\n",
              "      <td>8043.624</td>\n",
              "      <td>17.0</td>\n",
              "      <td>3.3</td>\n",
              "      <td>92.0</td>\n",
              "      <td>0.0</td>\n",
              "      <td>0.0</td>\n",
              "      <td>0.0</td>\n",
              "      <td>0.0</td>\n",
              "      <td>4</td>\n",
              "      <td>1</td>\n",
              "      <td>6</td>\n",
              "      <td>2020-06-01</td>\n",
              "      <td>0</td>\n",
              "      <td>0</td>\n",
              "      <td>62.39760</td>\n",
              "      <td>0</td>\n",
              "      <td>0</td>\n",
              "      <td>0</td>\n",
              "      <td>0</td>\n",
              "      <td>0</td>\n",
              "      <td>0.0</td>\n",
              "      <td>-43.1</td>\n",
              "      <td>18.081523</td>\n",
              "      <td>1</td>\n",
              "    </tr>\n",
              "  </tbody>\n",
              "</table>\n",
              "</div>"
            ],
            "text/plain": [
              "   num            date_time    target  ...   CDH         TW  corona\n",
              "0    1  2020-06-01 00:00:00  8179.056  ...  -8.4  18.973374       1\n",
              "1    1  2020-06-01 01:00:00  8135.640  ... -16.7  18.960338       1\n",
              "2    1  2020-06-01 02:00:00  8107.128  ... -25.2  18.658598       1\n",
              "3    1  2020-06-01 03:00:00  8048.808  ... -34.1  18.218957       1\n",
              "4    1  2020-06-01 04:00:00  8043.624  ... -43.1  18.081523       1\n",
              "\n",
              "[5 rows x 26 columns]"
            ]
          },
          "metadata": {
            "tags": []
          },
          "execution_count": 54
        }
      ]
    },
    {
      "cell_type": "code",
      "metadata": {
        "id": "n3WM5nhqzFEm"
      },
      "source": [
        "# 독립변수(X_df)/ 종속변수(y) 나누기\n",
        "X_df = train.drop(['target', 'date'], axis=1)\n",
        "y = train['target']"
      ],
      "execution_count": 55,
      "outputs": []
    },
    {
      "cell_type": "code",
      "metadata": {
        "colab": {
          "base_uri": "https://localhost:8080/"
        },
        "id": "XpoMg8ZazIVf",
        "outputId": "3adc9327-c076-4fc7-fa44-4812247ec8c7"
      },
      "source": [
        "X_df.columns"
      ],
      "execution_count": 56,
      "outputs": [
        {
          "output_type": "execute_result",
          "data": {
            "text/plain": [
              "Index(['num', 'date_time', 'temperature', 'windspeed', 'humidity',\n",
              "       'precipitation', 'insolation', 'nelec_cool', 'solar', 'hour', 'day',\n",
              "       'month', 'weekday', 'weekend', 'DI', 'DI_70', 'DI_75', 'DI_80', 'DI_83',\n",
              "       'DI_86', 'SL', 'CDH', 'TW', 'corona'],\n",
              "      dtype='object')"
            ]
          },
          "metadata": {
            "tags": []
          },
          "execution_count": 56
        }
      ]
    },
    {
      "cell_type": "code",
      "metadata": {
        "colab": {
          "base_uri": "https://localhost:8080/",
          "height": 195
        },
        "id": "_IXa47pWzLFd",
        "outputId": "699ed8a5-1aa4-4709-8665-cd7f7ded5c7e"
      },
      "source": [
        "X_df.drop(['DI_80', 'DI_83', 'DI_86', 'month', 'weekday'], axis=1, inplace=True)\n",
        "X_df.head()"
      ],
      "execution_count": 57,
      "outputs": [
        {
          "output_type": "execute_result",
          "data": {
            "text/html": [
              "<div>\n",
              "<style scoped>\n",
              "    .dataframe tbody tr th:only-of-type {\n",
              "        vertical-align: middle;\n",
              "    }\n",
              "\n",
              "    .dataframe tbody tr th {\n",
              "        vertical-align: top;\n",
              "    }\n",
              "\n",
              "    .dataframe thead th {\n",
              "        text-align: right;\n",
              "    }\n",
              "</style>\n",
              "<table border=\"1\" class=\"dataframe\">\n",
              "  <thead>\n",
              "    <tr style=\"text-align: right;\">\n",
              "      <th></th>\n",
              "      <th>num</th>\n",
              "      <th>date_time</th>\n",
              "      <th>temperature</th>\n",
              "      <th>windspeed</th>\n",
              "      <th>humidity</th>\n",
              "      <th>precipitation</th>\n",
              "      <th>insolation</th>\n",
              "      <th>nelec_cool</th>\n",
              "      <th>solar</th>\n",
              "      <th>hour</th>\n",
              "      <th>day</th>\n",
              "      <th>weekend</th>\n",
              "      <th>DI</th>\n",
              "      <th>DI_70</th>\n",
              "      <th>DI_75</th>\n",
              "      <th>SL</th>\n",
              "      <th>CDH</th>\n",
              "      <th>TW</th>\n",
              "      <th>corona</th>\n",
              "    </tr>\n",
              "  </thead>\n",
              "  <tbody>\n",
              "    <tr>\n",
              "      <th>0</th>\n",
              "      <td>1</td>\n",
              "      <td>2020-06-01 00:00:00</td>\n",
              "      <td>17.6</td>\n",
              "      <td>2.5</td>\n",
              "      <td>92.0</td>\n",
              "      <td>0.8</td>\n",
              "      <td>0.0</td>\n",
              "      <td>0.0</td>\n",
              "      <td>0.0</td>\n",
              "      <td>0</td>\n",
              "      <td>1</td>\n",
              "      <td>0</td>\n",
              "      <td>63.43008</td>\n",
              "      <td>0</td>\n",
              "      <td>0</td>\n",
              "      <td>0.0</td>\n",
              "      <td>-8.4</td>\n",
              "      <td>18.973374</td>\n",
              "      <td>1</td>\n",
              "    </tr>\n",
              "    <tr>\n",
              "      <th>1</th>\n",
              "      <td>1</td>\n",
              "      <td>2020-06-01 01:00:00</td>\n",
              "      <td>17.7</td>\n",
              "      <td>2.9</td>\n",
              "      <td>91.0</td>\n",
              "      <td>0.3</td>\n",
              "      <td>0.0</td>\n",
              "      <td>0.0</td>\n",
              "      <td>0.0</td>\n",
              "      <td>1</td>\n",
              "      <td>1</td>\n",
              "      <td>0</td>\n",
              "      <td>63.56993</td>\n",
              "      <td>0</td>\n",
              "      <td>0</td>\n",
              "      <td>0.0</td>\n",
              "      <td>-16.7</td>\n",
              "      <td>18.960338</td>\n",
              "      <td>1</td>\n",
              "    </tr>\n",
              "    <tr>\n",
              "      <th>2</th>\n",
              "      <td>1</td>\n",
              "      <td>2020-06-01 02:00:00</td>\n",
              "      <td>17.5</td>\n",
              "      <td>3.2</td>\n",
              "      <td>91.0</td>\n",
              "      <td>0.0</td>\n",
              "      <td>0.0</td>\n",
              "      <td>0.0</td>\n",
              "      <td>0.0</td>\n",
              "      <td>2</td>\n",
              "      <td>1</td>\n",
              "      <td>0</td>\n",
              "      <td>63.22775</td>\n",
              "      <td>0</td>\n",
              "      <td>0</td>\n",
              "      <td>0.0</td>\n",
              "      <td>-25.2</td>\n",
              "      <td>18.658598</td>\n",
              "      <td>1</td>\n",
              "    </tr>\n",
              "    <tr>\n",
              "      <th>3</th>\n",
              "      <td>1</td>\n",
              "      <td>2020-06-01 03:00:00</td>\n",
              "      <td>17.1</td>\n",
              "      <td>3.2</td>\n",
              "      <td>91.0</td>\n",
              "      <td>0.0</td>\n",
              "      <td>0.0</td>\n",
              "      <td>0.0</td>\n",
              "      <td>0.0</td>\n",
              "      <td>3</td>\n",
              "      <td>1</td>\n",
              "      <td>0</td>\n",
              "      <td>62.54339</td>\n",
              "      <td>0</td>\n",
              "      <td>0</td>\n",
              "      <td>0.0</td>\n",
              "      <td>-34.1</td>\n",
              "      <td>18.218957</td>\n",
              "      <td>1</td>\n",
              "    </tr>\n",
              "    <tr>\n",
              "      <th>4</th>\n",
              "      <td>1</td>\n",
              "      <td>2020-06-01 04:00:00</td>\n",
              "      <td>17.0</td>\n",
              "      <td>3.3</td>\n",
              "      <td>92.0</td>\n",
              "      <td>0.0</td>\n",
              "      <td>0.0</td>\n",
              "      <td>0.0</td>\n",
              "      <td>0.0</td>\n",
              "      <td>4</td>\n",
              "      <td>1</td>\n",
              "      <td>0</td>\n",
              "      <td>62.39760</td>\n",
              "      <td>0</td>\n",
              "      <td>0</td>\n",
              "      <td>0.0</td>\n",
              "      <td>-43.1</td>\n",
              "      <td>18.081523</td>\n",
              "      <td>1</td>\n",
              "    </tr>\n",
              "  </tbody>\n",
              "</table>\n",
              "</div>"
            ],
            "text/plain": [
              "   num            date_time  temperature  ...   CDH         TW  corona\n",
              "0    1  2020-06-01 00:00:00         17.6  ...  -8.4  18.973374       1\n",
              "1    1  2020-06-01 01:00:00         17.7  ... -16.7  18.960338       1\n",
              "2    1  2020-06-01 02:00:00         17.5  ... -25.2  18.658598       1\n",
              "3    1  2020-06-01 03:00:00         17.1  ... -34.1  18.218957       1\n",
              "4    1  2020-06-01 04:00:00         17.0  ... -43.1  18.081523       1\n",
              "\n",
              "[5 rows x 19 columns]"
            ]
          },
          "metadata": {
            "tags": []
          },
          "execution_count": 57
        }
      ]
    },
    {
      "cell_type": "code",
      "metadata": {
        "colab": {
          "base_uri": "https://localhost:8080/",
          "height": 195
        },
        "id": "IliWg8jOzRXB",
        "outputId": "c2162909-d1e7-481e-a2c6-78cd5d601e9f"
      },
      "source": [
        "X_df_con = X_df.drop(['num', 'weekend','nelec_cool', 'solar', 'DI_70', 'DI_75','corona'], axis=1)\n",
        "X_df_con.head()"
      ],
      "execution_count": 58,
      "outputs": [
        {
          "output_type": "execute_result",
          "data": {
            "text/html": [
              "<div>\n",
              "<style scoped>\n",
              "    .dataframe tbody tr th:only-of-type {\n",
              "        vertical-align: middle;\n",
              "    }\n",
              "\n",
              "    .dataframe tbody tr th {\n",
              "        vertical-align: top;\n",
              "    }\n",
              "\n",
              "    .dataframe thead th {\n",
              "        text-align: right;\n",
              "    }\n",
              "</style>\n",
              "<table border=\"1\" class=\"dataframe\">\n",
              "  <thead>\n",
              "    <tr style=\"text-align: right;\">\n",
              "      <th></th>\n",
              "      <th>date_time</th>\n",
              "      <th>temperature</th>\n",
              "      <th>windspeed</th>\n",
              "      <th>humidity</th>\n",
              "      <th>precipitation</th>\n",
              "      <th>insolation</th>\n",
              "      <th>hour</th>\n",
              "      <th>day</th>\n",
              "      <th>DI</th>\n",
              "      <th>SL</th>\n",
              "      <th>CDH</th>\n",
              "      <th>TW</th>\n",
              "    </tr>\n",
              "  </thead>\n",
              "  <tbody>\n",
              "    <tr>\n",
              "      <th>0</th>\n",
              "      <td>2020-06-01 00:00:00</td>\n",
              "      <td>17.6</td>\n",
              "      <td>2.5</td>\n",
              "      <td>92.0</td>\n",
              "      <td>0.8</td>\n",
              "      <td>0.0</td>\n",
              "      <td>0</td>\n",
              "      <td>1</td>\n",
              "      <td>63.43008</td>\n",
              "      <td>0.0</td>\n",
              "      <td>-8.4</td>\n",
              "      <td>18.973374</td>\n",
              "    </tr>\n",
              "    <tr>\n",
              "      <th>1</th>\n",
              "      <td>2020-06-01 01:00:00</td>\n",
              "      <td>17.7</td>\n",
              "      <td>2.9</td>\n",
              "      <td>91.0</td>\n",
              "      <td>0.3</td>\n",
              "      <td>0.0</td>\n",
              "      <td>1</td>\n",
              "      <td>1</td>\n",
              "      <td>63.56993</td>\n",
              "      <td>0.0</td>\n",
              "      <td>-16.7</td>\n",
              "      <td>18.960338</td>\n",
              "    </tr>\n",
              "    <tr>\n",
              "      <th>2</th>\n",
              "      <td>2020-06-01 02:00:00</td>\n",
              "      <td>17.5</td>\n",
              "      <td>3.2</td>\n",
              "      <td>91.0</td>\n",
              "      <td>0.0</td>\n",
              "      <td>0.0</td>\n",
              "      <td>2</td>\n",
              "      <td>1</td>\n",
              "      <td>63.22775</td>\n",
              "      <td>0.0</td>\n",
              "      <td>-25.2</td>\n",
              "      <td>18.658598</td>\n",
              "    </tr>\n",
              "    <tr>\n",
              "      <th>3</th>\n",
              "      <td>2020-06-01 03:00:00</td>\n",
              "      <td>17.1</td>\n",
              "      <td>3.2</td>\n",
              "      <td>91.0</td>\n",
              "      <td>0.0</td>\n",
              "      <td>0.0</td>\n",
              "      <td>3</td>\n",
              "      <td>1</td>\n",
              "      <td>62.54339</td>\n",
              "      <td>0.0</td>\n",
              "      <td>-34.1</td>\n",
              "      <td>18.218957</td>\n",
              "    </tr>\n",
              "    <tr>\n",
              "      <th>4</th>\n",
              "      <td>2020-06-01 04:00:00</td>\n",
              "      <td>17.0</td>\n",
              "      <td>3.3</td>\n",
              "      <td>92.0</td>\n",
              "      <td>0.0</td>\n",
              "      <td>0.0</td>\n",
              "      <td>4</td>\n",
              "      <td>1</td>\n",
              "      <td>62.39760</td>\n",
              "      <td>0.0</td>\n",
              "      <td>-43.1</td>\n",
              "      <td>18.081523</td>\n",
              "    </tr>\n",
              "  </tbody>\n",
              "</table>\n",
              "</div>"
            ],
            "text/plain": [
              "             date_time  temperature  windspeed  ...   SL   CDH         TW\n",
              "0  2020-06-01 00:00:00         17.6        2.5  ...  0.0  -8.4  18.973374\n",
              "1  2020-06-01 01:00:00         17.7        2.9  ...  0.0 -16.7  18.960338\n",
              "2  2020-06-01 02:00:00         17.5        3.2  ...  0.0 -25.2  18.658598\n",
              "3  2020-06-01 03:00:00         17.1        3.2  ...  0.0 -34.1  18.218957\n",
              "4  2020-06-01 04:00:00         17.0        3.3  ...  0.0 -43.1  18.081523\n",
              "\n",
              "[5 rows x 12 columns]"
            ]
          },
          "metadata": {
            "tags": []
          },
          "execution_count": 58
        }
      ]
    },
    {
      "cell_type": "code",
      "metadata": {
        "colab": {
          "base_uri": "https://localhost:8080/",
          "height": 195
        },
        "id": "JG_s9wLBzVug",
        "outputId": "5fbce45b-9766-4693-c391-2f9e7ecd6bec"
      },
      "source": [
        "#위의 애들에 대해서만 표준화 적용\n",
        "train_mean = np.mean(X_df_con)\n",
        "train_std = np.std(X_df_con)\n",
        "X_df_scaled = (X_df_con - train_mean)/train_std\n",
        "X_df_scaled.reset_index(inplace=True)\n",
        "X_df_scaled.head()"
      ],
      "execution_count": 30,
      "outputs": [
        {
          "output_type": "execute_result",
          "data": {
            "text/html": [
              "<div>\n",
              "<style scoped>\n",
              "    .dataframe tbody tr th:only-of-type {\n",
              "        vertical-align: middle;\n",
              "    }\n",
              "\n",
              "    .dataframe tbody tr th {\n",
              "        vertical-align: top;\n",
              "    }\n",
              "\n",
              "    .dataframe thead th {\n",
              "        text-align: right;\n",
              "    }\n",
              "</style>\n",
              "<table border=\"1\" class=\"dataframe\">\n",
              "  <thead>\n",
              "    <tr style=\"text-align: right;\">\n",
              "      <th></th>\n",
              "      <th>index</th>\n",
              "      <th>temperature</th>\n",
              "      <th>windspeed</th>\n",
              "      <th>humidity</th>\n",
              "      <th>precipitation</th>\n",
              "      <th>insolation</th>\n",
              "      <th>hour</th>\n",
              "      <th>day</th>\n",
              "      <th>DI</th>\n",
              "      <th>SL</th>\n",
              "      <th>CDH</th>\n",
              "      <th>TW</th>\n",
              "    </tr>\n",
              "  </thead>\n",
              "  <tbody>\n",
              "    <tr>\n",
              "      <th>0</th>\n",
              "      <td>0</td>\n",
              "      <td>-1.951858</td>\n",
              "      <td>0.230021</td>\n",
              "      <td>0.761967</td>\n",
              "      <td>0.108596</td>\n",
              "      <td>-0.576315</td>\n",
              "      <td>-1.661325</td>\n",
              "      <td>-1.638058</td>\n",
              "      <td>-2.099273</td>\n",
              "      <td>-0.303629</td>\n",
              "      <td>0.371478</td>\n",
              "      <td>-2.085954</td>\n",
              "    </tr>\n",
              "    <tr>\n",
              "      <th>1</th>\n",
              "      <td>1</td>\n",
              "      <td>-1.922514</td>\n",
              "      <td>0.494140</td>\n",
              "      <td>0.697558</td>\n",
              "      <td>-0.081916</td>\n",
              "      <td>-0.576315</td>\n",
              "      <td>-1.516862</td>\n",
              "      <td>-1.638058</td>\n",
              "      <td>-2.070006</td>\n",
              "      <td>-0.303629</td>\n",
              "      <td>0.128157</td>\n",
              "      <td>-2.089634</td>\n",
              "    </tr>\n",
              "    <tr>\n",
              "      <th>2</th>\n",
              "      <td>2</td>\n",
              "      <td>-1.981202</td>\n",
              "      <td>0.692229</td>\n",
              "      <td>0.697558</td>\n",
              "      <td>-0.196224</td>\n",
              "      <td>-0.576315</td>\n",
              "      <td>-1.372399</td>\n",
              "      <td>-1.638058</td>\n",
              "      <td>-2.141617</td>\n",
              "      <td>-0.303629</td>\n",
              "      <td>-0.121027</td>\n",
              "      <td>-2.174818</td>\n",
              "    </tr>\n",
              "    <tr>\n",
              "      <th>3</th>\n",
              "      <td>3</td>\n",
              "      <td>-2.098577</td>\n",
              "      <td>0.692229</td>\n",
              "      <td>0.697558</td>\n",
              "      <td>-0.196224</td>\n",
              "      <td>-0.576315</td>\n",
              "      <td>-1.227936</td>\n",
              "      <td>-1.638058</td>\n",
              "      <td>-2.284839</td>\n",
              "      <td>-0.303629</td>\n",
              "      <td>-0.381937</td>\n",
              "      <td>-2.298934</td>\n",
              "    </tr>\n",
              "    <tr>\n",
              "      <th>4</th>\n",
              "      <td>4</td>\n",
              "      <td>-2.127920</td>\n",
              "      <td>0.758259</td>\n",
              "      <td>0.761967</td>\n",
              "      <td>-0.196224</td>\n",
              "      <td>-0.576315</td>\n",
              "      <td>-1.083473</td>\n",
              "      <td>-1.638058</td>\n",
              "      <td>-2.315350</td>\n",
              "      <td>-0.303629</td>\n",
              "      <td>-0.645779</td>\n",
              "      <td>-2.337733</td>\n",
              "    </tr>\n",
              "  </tbody>\n",
              "</table>\n",
              "</div>"
            ],
            "text/plain": [
              "   index  temperature  windspeed  ...        SL       CDH        TW\n",
              "0      0    -1.951858   0.230021  ... -0.303629  0.371478 -2.085954\n",
              "1      1    -1.922514   0.494140  ... -0.303629  0.128157 -2.089634\n",
              "2      2    -1.981202   0.692229  ... -0.303629 -0.121027 -2.174818\n",
              "3      3    -2.098577   0.692229  ... -0.303629 -0.381937 -2.298934\n",
              "4      4    -2.127920   0.758259  ... -0.303629 -0.645779 -2.337733\n",
              "\n",
              "[5 rows x 12 columns]"
            ]
          },
          "metadata": {
            "tags": []
          },
          "execution_count": 30
        }
      ]
    },
    {
      "cell_type": "code",
      "metadata": {
        "id": "ZtEk9olrzaT2"
      },
      "source": [
        "X_df_cat = X_df[['num', 'weekend','nelec_cool', 'solar', 'DI_70', 'DI_75', 'corona']]\n",
        "X_df_cat.reset_index(inplace=True)"
      ],
      "execution_count": 31,
      "outputs": []
    },
    {
      "cell_type": "code",
      "metadata": {
        "id": "DdB895glzdZ6"
      },
      "source": [
        "y = pd.DataFrame(y)\n",
        "y.reset_index(inplace=True)"
      ],
      "execution_count": 32,
      "outputs": []
    },
    {
      "cell_type": "code",
      "metadata": {
        "id": "OQwFpPRezhH0"
      },
      "source": [
        "X_df_final = X_df_scaled.merge(X_df_cat, on='index')\n",
        "X_df_final = X_df_final.merge(y, on='index')\n",
        "X_df_final.drop('index', axis=1,  inplace=True)"
      ],
      "execution_count": 33,
      "outputs": []
    },
    {
      "cell_type": "code",
      "metadata": {
        "colab": {
          "base_uri": "https://localhost:8080/",
          "height": 215
        },
        "id": "JiT-HVlFzk-b",
        "outputId": "d6aea1c9-30a3-4588-cd1e-d38ca8de7127"
      },
      "source": [
        "X_df_final.head()"
      ],
      "execution_count": 34,
      "outputs": [
        {
          "output_type": "execute_result",
          "data": {
            "text/html": [
              "<div>\n",
              "<style scoped>\n",
              "    .dataframe tbody tr th:only-of-type {\n",
              "        vertical-align: middle;\n",
              "    }\n",
              "\n",
              "    .dataframe tbody tr th {\n",
              "        vertical-align: top;\n",
              "    }\n",
              "\n",
              "    .dataframe thead th {\n",
              "        text-align: right;\n",
              "    }\n",
              "</style>\n",
              "<table border=\"1\" class=\"dataframe\">\n",
              "  <thead>\n",
              "    <tr style=\"text-align: right;\">\n",
              "      <th></th>\n",
              "      <th>temperature</th>\n",
              "      <th>windspeed</th>\n",
              "      <th>humidity</th>\n",
              "      <th>precipitation</th>\n",
              "      <th>insolation</th>\n",
              "      <th>hour</th>\n",
              "      <th>day</th>\n",
              "      <th>DI</th>\n",
              "      <th>SL</th>\n",
              "      <th>CDH</th>\n",
              "      <th>TW</th>\n",
              "      <th>num</th>\n",
              "      <th>weekend</th>\n",
              "      <th>nelec_cool</th>\n",
              "      <th>solar</th>\n",
              "      <th>DI_70</th>\n",
              "      <th>DI_75</th>\n",
              "      <th>corona</th>\n",
              "      <th>target</th>\n",
              "    </tr>\n",
              "  </thead>\n",
              "  <tbody>\n",
              "    <tr>\n",
              "      <th>0</th>\n",
              "      <td>-1.951858</td>\n",
              "      <td>0.230021</td>\n",
              "      <td>0.761967</td>\n",
              "      <td>0.108596</td>\n",
              "      <td>-0.576315</td>\n",
              "      <td>-1.661325</td>\n",
              "      <td>-1.638058</td>\n",
              "      <td>-2.099273</td>\n",
              "      <td>-0.303629</td>\n",
              "      <td>0.371478</td>\n",
              "      <td>-2.085954</td>\n",
              "      <td>1</td>\n",
              "      <td>0</td>\n",
              "      <td>0.0</td>\n",
              "      <td>0.0</td>\n",
              "      <td>0</td>\n",
              "      <td>0</td>\n",
              "      <td>1</td>\n",
              "      <td>8179.056</td>\n",
              "    </tr>\n",
              "    <tr>\n",
              "      <th>1</th>\n",
              "      <td>-1.922514</td>\n",
              "      <td>0.494140</td>\n",
              "      <td>0.697558</td>\n",
              "      <td>-0.081916</td>\n",
              "      <td>-0.576315</td>\n",
              "      <td>-1.516862</td>\n",
              "      <td>-1.638058</td>\n",
              "      <td>-2.070006</td>\n",
              "      <td>-0.303629</td>\n",
              "      <td>0.128157</td>\n",
              "      <td>-2.089634</td>\n",
              "      <td>1</td>\n",
              "      <td>0</td>\n",
              "      <td>0.0</td>\n",
              "      <td>0.0</td>\n",
              "      <td>0</td>\n",
              "      <td>0</td>\n",
              "      <td>1</td>\n",
              "      <td>8135.640</td>\n",
              "    </tr>\n",
              "    <tr>\n",
              "      <th>2</th>\n",
              "      <td>-1.981202</td>\n",
              "      <td>0.692229</td>\n",
              "      <td>0.697558</td>\n",
              "      <td>-0.196224</td>\n",
              "      <td>-0.576315</td>\n",
              "      <td>-1.372399</td>\n",
              "      <td>-1.638058</td>\n",
              "      <td>-2.141617</td>\n",
              "      <td>-0.303629</td>\n",
              "      <td>-0.121027</td>\n",
              "      <td>-2.174818</td>\n",
              "      <td>1</td>\n",
              "      <td>0</td>\n",
              "      <td>0.0</td>\n",
              "      <td>0.0</td>\n",
              "      <td>0</td>\n",
              "      <td>0</td>\n",
              "      <td>1</td>\n",
              "      <td>8107.128</td>\n",
              "    </tr>\n",
              "    <tr>\n",
              "      <th>3</th>\n",
              "      <td>-2.098577</td>\n",
              "      <td>0.692229</td>\n",
              "      <td>0.697558</td>\n",
              "      <td>-0.196224</td>\n",
              "      <td>-0.576315</td>\n",
              "      <td>-1.227936</td>\n",
              "      <td>-1.638058</td>\n",
              "      <td>-2.284839</td>\n",
              "      <td>-0.303629</td>\n",
              "      <td>-0.381937</td>\n",
              "      <td>-2.298934</td>\n",
              "      <td>1</td>\n",
              "      <td>0</td>\n",
              "      <td>0.0</td>\n",
              "      <td>0.0</td>\n",
              "      <td>0</td>\n",
              "      <td>0</td>\n",
              "      <td>1</td>\n",
              "      <td>8048.808</td>\n",
              "    </tr>\n",
              "    <tr>\n",
              "      <th>4</th>\n",
              "      <td>-2.127920</td>\n",
              "      <td>0.758259</td>\n",
              "      <td>0.761967</td>\n",
              "      <td>-0.196224</td>\n",
              "      <td>-0.576315</td>\n",
              "      <td>-1.083473</td>\n",
              "      <td>-1.638058</td>\n",
              "      <td>-2.315350</td>\n",
              "      <td>-0.303629</td>\n",
              "      <td>-0.645779</td>\n",
              "      <td>-2.337733</td>\n",
              "      <td>1</td>\n",
              "      <td>0</td>\n",
              "      <td>0.0</td>\n",
              "      <td>0.0</td>\n",
              "      <td>0</td>\n",
              "      <td>0</td>\n",
              "      <td>1</td>\n",
              "      <td>8043.624</td>\n",
              "    </tr>\n",
              "  </tbody>\n",
              "</table>\n",
              "</div>"
            ],
            "text/plain": [
              "   temperature  windspeed  humidity  ...  DI_75  corona    target\n",
              "0    -1.951858   0.230021  0.761967  ...      0       1  8179.056\n",
              "1    -1.922514   0.494140  0.697558  ...      0       1  8135.640\n",
              "2    -1.981202   0.692229  0.697558  ...      0       1  8107.128\n",
              "3    -2.098577   0.692229  0.697558  ...      0       1  8048.808\n",
              "4    -2.127920   0.758259  0.761967  ...      0       1  8043.624\n",
              "\n",
              "[5 rows x 19 columns]"
            ]
          },
          "metadata": {
            "tags": []
          },
          "execution_count": 34
        }
      ]
    },
    {
      "cell_type": "code",
      "metadata": {
        "colab": {
          "base_uri": "https://localhost:8080/"
        },
        "id": "JMZLAwXCzpet",
        "outputId": "1df0ec47-5191-4b70-e60f-24765e32d1db"
      },
      "source": [
        "# 1번 군집 \n",
        "list1 = [1, 31, 30, 60, 3, 5, 24,32, 33, 15]\n",
        "cl1 = X_df_final[X_df_final['num'].isin(list1)==True]\n",
        "print(X_df_final.shape, cl1.shape)\n",
        "\n",
        "# 2번 군집\n",
        "list1 = [2, 6, 7, 8, 13, 14, 16, 17, 18, 22, 23, 25, 26, 27, 37, 46, 47, 48, 52, 53, 54, 55, 56, 57 ,35, 38, 43, 44, 39, 45]\n",
        "cl2 = X_df_final[X_df_final['num'].isin(list1)==True]\n",
        "print(X_df_final.shape, cl2.shape)\n",
        "\n",
        "# 3번 군집\n",
        "l2 = [19,20,21,29,36,40,41,49,50,58,59]\n",
        "cl3 = X_df_final[X_df_final['num'].isin(l2)==True]\n",
        "print(X_df_final.shape, cl3.shape)\n",
        "\n",
        "# 4번 군집\n",
        "l3 = [14,9,10,11,12,30,42]\n",
        "cl4 = X_df_final[X_df_final['num'].isin(l3)==True]\n",
        "print(X_df_final.shape, cl4.shape)\n",
        "\n",
        "# 5번 군집\n",
        "l4 = [5,21,28,32,51, 34]\n",
        "cl5 = X_df_final[X_df_final['num'].isin(l4)==True]\n",
        "print(X_df_final.shape, cl5.shape)"
      ],
      "execution_count": 35,
      "outputs": [
        {
          "output_type": "stream",
          "text": [
            "(122400, 19) (20400, 19)\n",
            "(122400, 19) (61200, 19)\n",
            "(122400, 19) (22440, 19)\n",
            "(122400, 19) (14280, 19)\n",
            "(122400, 19) (12240, 19)\n"
          ],
          "name": "stdout"
        }
      ]
    },
    {
      "cell_type": "code",
      "metadata": {
        "id": "VkRPsTqosrsZ"
      },
      "source": [
        "#2d의 데이터프레임을 건물별 정보를 반영한 3d 데이터로 변환\n",
        "def df2d_to_array3d(df_2d):\n",
        "    feature_size=df_2d.iloc[:,2:].shape[1]\n",
        "    time_size=len(df_2d['date_time'].value_counts())\n",
        "    sample_size=len(df_2d.num.value_counts())\n",
        "    return df_2d.iloc[:,2:].values.reshape([sample_size, time_size, feature_size])"
      ],
      "execution_count": 59,
      "outputs": []
    },
    {
      "cell_type": "markdown",
      "metadata": {
        "id": "ts0akemA8w5G"
      },
      "source": [
        "# **cluster1**"
      ]
    },
    {
      "cell_type": "code",
      "metadata": {
        "id": "Aw89yhdesrsb"
      },
      "source": [
        "train_x_array=df2d_to_array3d(cl1)\n",
        "test_x_array=df2d_to_array3d(cl1)"
      ],
      "execution_count": 126,
      "outputs": []
    },
    {
      "cell_type": "code",
      "metadata": {
        "colab": {
          "base_uri": "https://localhost:8080/"
        },
        "id": "JH1W921Ksrsd",
        "outputId": "c4a7b698-117f-45a0-dfcb-33bb73c33356"
      },
      "source": [
        "print(train_x_array.shape)\n",
        "print(test_x_array.shape)"
      ],
      "execution_count": 127,
      "outputs": [
        {
          "output_type": "stream",
          "text": [
            "(10, 2040, 23)\n",
            "(10, 2040, 23)\n"
          ],
          "name": "stdout"
        }
      ]
    },
    {
      "cell_type": "code",
      "metadata": {
        "id": "EF66bPqAsrsf"
      },
      "source": [
        "def plot_series(x_series, y_series):\n",
        "    #입력 series와 출력 series를 연속적으로 연결하여 시각적으로 보여주는 코드 입니다.\n",
        "    plt.plot(x_series, label = 'input_series')\n",
        "    plt.plot(np.arange(len(x_series), len(x_series)+len(y_series)),\n",
        "             y_series, label = 'output_series')\n",
        "    plt.axhline(1, c = 'red')\n",
        "    plt.legend()"
      ],
      "execution_count": 128,
      "outputs": []
    },
    {
      "cell_type": "code",
      "metadata": {
        "id": "KkTxeGqBsrsg"
      },
      "source": [
        "idx=1\n",
        "x_series=train_x_array[idx, :, 0]\n",
        "model=ARIMA(x_series, order=(3, 0, 1))\n",
        "fit=model.fit()"
      ],
      "execution_count": 129,
      "outputs": []
    },
    {
      "cell_type": "code",
      "metadata": {
        "id": "CuF0XkHYsrsj"
      },
      "source": [
        "preds=fit.predict(1, 2040)"
      ],
      "execution_count": 130,
      "outputs": []
    },
    {
      "cell_type": "code",
      "metadata": {
        "colab": {
          "base_uri": "https://localhost:8080/",
          "height": 284
        },
        "id": "Is7G7w6Fsrsk",
        "outputId": "dae36ed9-eef2-4a69-b628-cfdf09a9c899"
      },
      "source": [
        "plt.plot(x_series, label = 'input_series')\n",
        "plt.plot(np.arange(2040, 2040+2040), test_x_array[idx, :, 0], label='y')\n",
        "plt.plot(np.arange(2040, 2040+2040), preds, label='prediction')\n",
        "plt.legend()"
      ],
      "execution_count": 131,
      "outputs": [
        {
          "output_type": "execute_result",
          "data": {
            "text/plain": [
              "<matplotlib.legend.Legend at 0x7fb1c6205a90>"
            ]
          },
          "metadata": {
            "tags": []
          },
          "execution_count": 131
        },
        {
          "output_type": "display_data",
          "data": {
            "image/png": "[encoded data removed]",
            "text/plain": [
              "<Figure size 432x288 with 1 Axes>"
            ]
          },
          "metadata": {
            "tags": [],
            "needs_background": "light"
          }
        }
      ]
    },
    {
      "cell_type": "markdown",
      "metadata": {
        "id": "fQfMYMrz8mqA"
      },
      "source": [
        "# **cluster 2**"
      ]
    },
    {
      "cell_type": "code",
      "metadata": {
        "id": "OE80mFV17qYI"
      },
      "source": [
        "train_x_array=df2d_to_array3d(cl2)\n",
        "test_x_array=df2d_to_array3d(cl2)"
      ],
      "execution_count": 132,
      "outputs": []
    },
    {
      "cell_type": "code",
      "metadata": {
        "colab": {
          "base_uri": "https://localhost:8080/"
        },
        "id": "i8fudjCk7wIX",
        "outputId": "4b8c372f-b1b6-44ef-8b63-165ad24149fc"
      },
      "source": [
        "print(train_x_array.shape)\n",
        "print(test_x_array.shape)"
      ],
      "execution_count": 133,
      "outputs": [
        {
          "output_type": "stream",
          "text": [
            "(30, 2040, 23)\n",
            "(30, 2040, 23)\n"
          ],
          "name": "stdout"
        }
      ]
    },
    {
      "cell_type": "code",
      "metadata": {
        "id": "zvFZ2KVi7787"
      },
      "source": [
        "preds=fit.predict(1, 2040)"
      ],
      "execution_count": 134,
      "outputs": []
    },
    {
      "cell_type": "code",
      "metadata": {
        "id": "Id2hyHha74L4"
      },
      "source": [
        "idx=1\n",
        "x_series=train_x_array[idx, :, 0]\n",
        "model=ARIMA(x_series, order=(3, 0, 1))\n",
        "fit=model.fit()"
      ],
      "execution_count": 135,
      "outputs": []
    },
    {
      "cell_type": "code",
      "metadata": {
        "id": "Lq8dnfZ070fa"
      },
      "source": [
        "def plot_series(x_series, y_series):\n",
        "    #입력 series와 출력 series를 연속적으로 연결하여 시각적으로 보여주는 코드 입니다.\n",
        "    plt.plot(x_series, label = 'input_series')\n",
        "    plt.plot(np.arange(len(x_series), len(x_series)+len(y_series)),\n",
        "             y_series, label = 'output_series')\n",
        "    plt.axhline(1, c = 'red')\n",
        "    plt.legend()"
      ],
      "execution_count": 155,
      "outputs": []
    },
    {
      "cell_type": "code",
      "metadata": {
        "id": "amVpmSOg8EIa"
      },
      "source": [
        ""
      ],
      "execution_count": null,
      "outputs": []
    },
    {
      "cell_type": "code",
      "metadata": {
        "colab": {
          "base_uri": "https://localhost:8080/",
          "height": 282
        },
        "id": "oDLRilIs8EKf",
        "outputId": "a4bc735f-6824-4bec-c636-392e54a41197"
      },
      "source": [
        "plt.plot(x_series, label = 'input_series')\n",
        "plt.plot(np.arange(2040, 2040+2040), test_x_array[idx, :, 0], label='y')\n",
        "plt.plot(np.arange(2040, 2040+2040), preds, label='prediction')\n",
        "plt.legend()"
      ],
      "execution_count": 123,
      "outputs": [
        {
          "output_type": "execute_result",
          "data": {
            "text/plain": [
              "<matplotlib.legend.Legend at 0x7fb1c5e0ec90>"
            ]
          },
          "metadata": {
            "tags": []
          },
          "execution_count": 123
        },
        {
          "output_type": "display_data",
          "data": {
            "image/png": "[encoded data removed]",
            "text/plain": [
              "<Figure size 432x288 with 1 Axes>"
            ]
          },
          "metadata": {
            "tags": [],
            "needs_background": "light"
          }
        }
      ]
    },
    {
      "cell_type": "markdown",
      "metadata": {
        "id": "2RxI18Cb9HoP"
      },
      "source": [
        "# **cluster3**"
      ]
    },
    {
      "cell_type": "code",
      "metadata": {
        "id": "k14vv-8M9wvF"
      },
      "source": [
        "train_x_array=df2d_to_array3d(cl3)\n",
        "test_x_array=df2d_to_array3d(cl3)"
      ],
      "execution_count": 176,
      "outputs": []
    },
    {
      "cell_type": "code",
      "metadata": {
        "colab": {
          "base_uri": "https://localhost:8080/"
        },
        "id": "3wZ4lbdN9KqK",
        "outputId": "50b50123-8b13-4e59-e47f-02f4f6cb603c"
      },
      "source": [
        "print(train_x_array.shape)\n",
        "print(test_x_array.shape)"
      ],
      "execution_count": 177,
      "outputs": [
        {
          "output_type": "stream",
          "text": [
            "(11, 2040, 23)\n",
            "(11, 2040, 23)\n"
          ],
          "name": "stdout"
        }
      ]
    },
    {
      "cell_type": "code",
      "metadata": {
        "colab": {
          "base_uri": "https://localhost:8080/",
          "height": 386
        },
        "id": "NyTrMrGf9jCR",
        "outputId": "652c4ed6-cfd3-43c9-a946-ca1dc0e676cd"
      },
      "source": [
        "idx=1\n",
        "x_series=train_x_array[idx, :, 0]\n",
        "model=ARIMA(x_series, order=(3, 0, 1))\n",
        "fit=model.fit()\n"
      ],
      "execution_count": 179,
      "outputs": [
        {
          "output_type": "error",
          "ename": "ValueError",
          "evalue": "ignored",
          "traceback": [
            "\u001b[0;31m---------------------------------------------------------------------------\u001b[0m",
            "\u001b[0;31mValueError\u001b[0m                                Traceback (most recent call last)",
            "\u001b[0;32m<ipython-input-179-b3f035fcfa7b>\u001b[0m in \u001b[0;36m<module>\u001b[0;34m()\u001b[0m\n\u001b[1;32m      2\u001b[0m \u001b[0mx_series\u001b[0m\u001b[0;34m=\u001b[0m\u001b[0mtrain_x_array\u001b[0m\u001b[0;34m[\u001b[0m\u001b[0midx\u001b[0m\u001b[0;34m,\u001b[0m \u001b[0;34m:\u001b[0m\u001b[0;34m,\u001b[0m \u001b[0;36m0\u001b[0m\u001b[0;34m]\u001b[0m\u001b[0;34m\u001b[0m\u001b[0;34m\u001b[0m\u001b[0m\n\u001b[1;32m      3\u001b[0m \u001b[0mmodel\u001b[0m\u001b[0;34m=\u001b[0m\u001b[0mARIMA\u001b[0m\u001b[0;34m(\u001b[0m\u001b[0mx_series\u001b[0m\u001b[0;34m,\u001b[0m \u001b[0morder\u001b[0m\u001b[0;34m=\u001b[0m\u001b[0;34m(\u001b[0m\u001b[0;36m3\u001b[0m\u001b[0;34m,\u001b[0m \u001b[0;36m0\u001b[0m\u001b[0;34m,\u001b[0m \u001b[0;36m1\u001b[0m\u001b[0;34m)\u001b[0m\u001b[0;34m)\u001b[0m\u001b[0;34m\u001b[0m\u001b[0;34m\u001b[0m\u001b[0m\n\u001b[0;32m----> 4\u001b[0;31m \u001b[0mfit\u001b[0m\u001b[0;34m=\u001b[0m\u001b[0mmodel\u001b[0m\u001b[0;34m.\u001b[0m\u001b[0mfit\u001b[0m\u001b[0;34m(\u001b[0m\u001b[0;34m)\u001b[0m\u001b[0;34m\u001b[0m\u001b[0;34m\u001b[0m\u001b[0m\n\u001b[0m",
            "\u001b[0;32m/usr/local/lib/python3.7/dist-packages/statsmodels/tsa/arima_model.py\u001b[0m in \u001b[0;36mfit\u001b[0;34m(self, start_params, trend, method, transparams, solver, maxiter, full_output, disp, callback, start_ar_lags, **kwargs)\u001b[0m\n\u001b[1;32m    936\u001b[0m         \u001b[0;32melse\u001b[0m\u001b[0;34m:\u001b[0m  \u001b[0;31m# estimate starting parameters\u001b[0m\u001b[0;34m\u001b[0m\u001b[0;34m\u001b[0m\u001b[0m\n\u001b[1;32m    937\u001b[0m             start_params = self._fit_start_params((k_ar, k_ma, k), method,\n\u001b[0;32m--> 938\u001b[0;31m                                                   start_ar_lags)\n\u001b[0m\u001b[1;32m    939\u001b[0m \u001b[0;34m\u001b[0m\u001b[0m\n\u001b[1;32m    940\u001b[0m         \u001b[0;32mif\u001b[0m \u001b[0mtransparams\u001b[0m\u001b[0;34m:\u001b[0m  \u001b[0;31m# transform initial parameters to ensure invertibility\u001b[0m\u001b[0;34m\u001b[0m\u001b[0;34m\u001b[0m\u001b[0m\n",
            "\u001b[0;32m/usr/local/lib/python3.7/dist-packages/statsmodels/tsa/arima_model.py\u001b[0m in \u001b[0;36m_fit_start_params\u001b[0;34m(self, order, method, start_ar_lags)\u001b[0m\n\u001b[1;32m    552\u001b[0m             \u001b[0mfunc\u001b[0m \u001b[0;34m=\u001b[0m \u001b[0;32mlambda\u001b[0m \u001b[0mparams\u001b[0m\u001b[0;34m:\u001b[0m \u001b[0;34m-\u001b[0m\u001b[0mself\u001b[0m\u001b[0;34m.\u001b[0m\u001b[0mloglike_css\u001b[0m\u001b[0;34m(\u001b[0m\u001b[0mparams\u001b[0m\u001b[0;34m)\u001b[0m\u001b[0;34m\u001b[0m\u001b[0;34m\u001b[0m\u001b[0m\n\u001b[1;32m    553\u001b[0m             \u001b[0;31m#start_params = [.1]*(k_ar+k_ma+k_exog) # different one for k?\u001b[0m\u001b[0;34m\u001b[0m\u001b[0;34m\u001b[0m\u001b[0;34m\u001b[0m\u001b[0m\n\u001b[0;32m--> 554\u001b[0;31m             \u001b[0mstart_params\u001b[0m \u001b[0;34m=\u001b[0m \u001b[0mself\u001b[0m\u001b[0;34m.\u001b[0m\u001b[0m_fit_start_params_hr\u001b[0m\u001b[0;34m(\u001b[0m\u001b[0morder\u001b[0m\u001b[0;34m,\u001b[0m \u001b[0mstart_ar_lags\u001b[0m\u001b[0;34m)\u001b[0m\u001b[0;34m\u001b[0m\u001b[0;34m\u001b[0m\u001b[0m\n\u001b[0m\u001b[1;32m    555\u001b[0m             \u001b[0;32mif\u001b[0m \u001b[0mself\u001b[0m\u001b[0;34m.\u001b[0m\u001b[0mtransparams\u001b[0m\u001b[0;34m:\u001b[0m\u001b[0;34m\u001b[0m\u001b[0;34m\u001b[0m\u001b[0m\n\u001b[1;32m    556\u001b[0m                 \u001b[0mstart_params\u001b[0m \u001b[0;34m=\u001b[0m \u001b[0mself\u001b[0m\u001b[0;34m.\u001b[0m\u001b[0m_invtransparams\u001b[0m\u001b[0;34m(\u001b[0m\u001b[0mstart_params\u001b[0m\u001b[0;34m)\u001b[0m\u001b[0;34m\u001b[0m\u001b[0;34m\u001b[0m\u001b[0m\n",
            "\u001b[0;32m/usr/local/lib/python3.7/dist-packages/statsmodels/tsa/arima_model.py\u001b[0m in \u001b[0;36m_fit_start_params_hr\u001b[0;34m(self, order, start_ar_lags)\u001b[0m\n\u001b[1;32m    538\u001b[0m         elif q and not np.all(np.abs(np.roots(np.r_[1, start_params[k + p:]]\n\u001b[1;32m    539\u001b[0m                                               )) < 1):\n\u001b[0;32m--> 540\u001b[0;31m             raise ValueError(\"The computed initial MA coefficients are not \"\n\u001b[0m\u001b[1;32m    541\u001b[0m                              \u001b[0;34m\"invertible\\nYou should induce invertibility, \"\u001b[0m\u001b[0;34m\u001b[0m\u001b[0;34m\u001b[0m\u001b[0m\n\u001b[1;32m    542\u001b[0m                              \u001b[0;34m\"choose a different model order, or you can\\n\"\u001b[0m\u001b[0;34m\u001b[0m\u001b[0;34m\u001b[0m\u001b[0m\n",
            "\u001b[0;31mValueError\u001b[0m: The computed initial MA coefficients are not invertible\nYou should induce invertibility, choose a different model order, or you can\npass your own start_params."
          ]
        }
      ]
    },
    {
      "cell_type": "code",
      "metadata": {
        "id": "-JASHBei_pRF"
      },
      "source": [
        "preds=fit.predict(1, 2040)"
      ],
      "execution_count": 161,
      "outputs": []
    },
    {
      "cell_type": "code",
      "metadata": {
        "id": "i1EL-Hni_qQi"
      },
      "source": [
        "def plot_series(x_series, y_series):\n",
        "    #입력 series와 출력 series를 연속적으로 연결하여 시각적으로 보여주는 코드 입니다.\n",
        "    plt.plot(x_series, label = 'input_series')\n",
        "    plt.plot(np.arange(len(x_series), len(x_series)+len(y_series)),\n",
        "             y_series, label = 'output_series')\n",
        "    plt.axhline(1, c = 'red')\n",
        "    plt.legend()"
      ],
      "execution_count": 162,
      "outputs": []
    },
    {
      "cell_type": "code",
      "metadata": {
        "colab": {
          "base_uri": "https://localhost:8080/",
          "height": 282
        },
        "id": "bS2bMNw3_yeI",
        "outputId": "0dae33ca-22f8-4b4c-f2ac-af1642c77e88"
      },
      "source": [
        "plt.plot(x_series, label = 'input_series')\n",
        "plt.plot(np.arange(2040, 2040+2040), test_x_array[idx, :, 0], label='y')\n",
        "plt.plot(np.arange(2040, 2040+2040), preds, label='prediction')\n",
        "plt.legend()"
      ],
      "execution_count": 163,
      "outputs": [
        {
          "output_type": "execute_result",
          "data": {
            "text/plain": [
              "<matplotlib.legend.Legend at 0x7fb1c6129450>"
            ]
          },
          "metadata": {
            "tags": []
          },
          "execution_count": 163
        },
        {
          "output_type": "display_data",
          "data": {
            "image/png": "[encoded data removed]",
            "text/plain": [
              "<Figure size 432x288 with 1 Axes>"
            ]
          },
          "metadata": {
            "tags": [],
            "needs_background": "light"
          }
        }
      ]
    },
    {
      "cell_type": "markdown",
      "metadata": {
        "id": "YI7k4ybgAGfe"
      },
      "source": [
        "# **cluster4**"
      ]
    },
    {
      "cell_type": "code",
      "metadata": {
        "id": "S250xRiNAIXX"
      },
      "source": [
        "train_x_array=df2d_to_array3d(cl4)\n",
        "test_x_array=df2d_to_array3d(cl4)"
      ],
      "execution_count": 164,
      "outputs": []
    },
    {
      "cell_type": "code",
      "metadata": {
        "colab": {
          "base_uri": "https://localhost:8080/"
        },
        "id": "9-ttSu7xAO00",
        "outputId": "789c6eab-a438-4aa4-9545-afff85c0ccdc"
      },
      "source": [
        "print(train_x_array.shape)\n",
        "print(test_x_array.shape)"
      ],
      "execution_count": 165,
      "outputs": [
        {
          "output_type": "stream",
          "text": [
            "(7, 2040, 23)\n",
            "(7, 2040, 23)\n"
          ],
          "name": "stdout"
        }
      ]
    },
    {
      "cell_type": "code",
      "metadata": {
        "id": "_5vukK99AUCB"
      },
      "source": [
        "idx=1\n",
        "x_series=train_x_array[idx, :, 0]\n",
        "model=ARIMA(x_series, order=(3, 0, 1))\n",
        "fit=model.fit()"
      ],
      "execution_count": 166,
      "outputs": []
    },
    {
      "cell_type": "code",
      "metadata": {
        "id": "psoODXjQAc1N"
      },
      "source": [
        "preds=fit.predict(1, 2040)"
      ],
      "execution_count": 167,
      "outputs": []
    },
    {
      "cell_type": "code",
      "metadata": {
        "id": "DpAlCZwQAg0J"
      },
      "source": [
        "def plot_series(x_series, y_series):\n",
        "    #입력 series와 출력 series를 연속적으로 연결하여 시각적으로 보여주는 코드 입니다.\n",
        "    plt.plot(x_series, label = 'input_series')\n",
        "    plt.plot(np.arange(len(x_series), len(x_series)+len(y_series)),\n",
        "             y_series, label = 'output_series')\n",
        "    plt.axhline(1, c = 'red')\n",
        "    plt.legend()"
      ],
      "execution_count": 168,
      "outputs": []
    },
    {
      "cell_type": "code",
      "metadata": {
        "colab": {
          "base_uri": "https://localhost:8080/",
          "height": 282
        },
        "id": "_bH1eSDkAkSu",
        "outputId": "b5b4dc65-2813-47bd-e11d-d1a4af2a8ab1"
      },
      "source": [
        "plt.plot(x_series, label = 'input_series')\n",
        "plt.plot(np.arange(2040, 2040+2040), test_x_array[idx, :, 0], label='y')\n",
        "plt.plot(np.arange(2040, 2040+2040), preds, label='prediction')\n",
        "plt.legend()"
      ],
      "execution_count": 169,
      "outputs": [
        {
          "output_type": "execute_result",
          "data": {
            "text/plain": [
              "<matplotlib.legend.Legend at 0x7fb1c5fe3f10>"
            ]
          },
          "metadata": {
            "tags": []
          },
          "execution_count": 169
        },
        {
          "output_type": "display_data",
          "data": {
            "image/png": "[encoded data removed]",
            "text/plain": [
              "<Figure size 432x288 with 1 Axes>"
            ]
          },
          "metadata": {
            "tags": [],
            "needs_background": "light"
          }
        }
      ]
    },
    {
      "cell_type": "markdown",
      "metadata": {
        "id": "XpEnwfybAxac"
      },
      "source": [
        "# cluster **5**"
      ]
    },
    {
      "cell_type": "code",
      "metadata": {
        "id": "qutRCe7RAzPJ"
      },
      "source": [
        "train_x_array=df2d_to_array3d(cl5)\n",
        "test_x_array=df2d_to_array3d(cl5)"
      ],
      "execution_count": 170,
      "outputs": []
    },
    {
      "cell_type": "code",
      "metadata": {
        "colab": {
          "base_uri": "https://localhost:8080/"
        },
        "id": "-Rs8EnchA5QO",
        "outputId": "d9759ffb-1137-4162-c45e-91864b31a0ef"
      },
      "source": [
        "print(train_x_array.shape)\n",
        "print(test_x_array.shape)"
      ],
      "execution_count": 171,
      "outputs": [
        {
          "output_type": "stream",
          "text": [
            "(6, 2040, 23)\n",
            "(6, 2040, 23)\n"
          ],
          "name": "stdout"
        }
      ]
    },
    {
      "cell_type": "code",
      "metadata": {
        "id": "qWqThJK3A9Ay"
      },
      "source": [
        "idx=1\n",
        "x_series=train_x_array[idx, :, 0]\n",
        "model=ARIMA(x_series, order=(3, 0, 1))\n",
        "fit=model.fit()"
      ],
      "execution_count": 172,
      "outputs": []
    },
    {
      "cell_type": "code",
      "metadata": {
        "id": "9UJRfj2WBBG8"
      },
      "source": [
        "preds=fit.predict(1, 2040)"
      ],
      "execution_count": 173,
      "outputs": []
    },
    {
      "cell_type": "code",
      "metadata": {
        "id": "Num-2O70BFS6"
      },
      "source": [
        "def plot_series(x_series, y_series):\n",
        "    #입력 series와 출력 series를 연속적으로 연결하여 시각적으로 보여주는 코드 입니다.\n",
        "    plt.plot(x_series, label = 'input_series')\n",
        "    plt.plot(np.arange(len(x_series), len(x_series)+len(y_series)),\n",
        "             y_series, label = 'output_series')\n",
        "    plt.axhline(1, c = 'red')\n",
        "    plt.legend()"
      ],
      "execution_count": 174,
      "outputs": []
    },
    {
      "cell_type": "code",
      "metadata": {
        "colab": {
          "base_uri": "https://localhost:8080/",
          "height": 282
        },
        "id": "Y10_sgMOBJeh",
        "outputId": "d450eb3b-014b-4a78-bff8-c1f988fc1e3a"
      },
      "source": [
        "plt.plot(x_series, label = 'input_series')\n",
        "plt.plot(np.arange(2040, 2040+2040), test_x_array[idx, :, 0], label='y')\n",
        "plt.plot(np.arange(2040, 2040+2040), preds, label='prediction')\n",
        "plt.legend()"
      ],
      "execution_count": 175,
      "outputs": [
        {
          "output_type": "execute_result",
          "data": {
            "text/plain": [
              "<matplotlib.legend.Legend at 0x7fb1c5f0b090>"
            ]
          },
          "metadata": {
            "tags": []
          },
          "execution_count": 175
        },
        {
          "output_type": "display_data",
          "data": {
            "image/png": "[encoded data removed]",
            "text/plain": [
              "<Figure size 432x288 with 1 Axes>"
            ]
          },
          "metadata": {
            "tags": [],
            "needs_background": "light"
          }
        }
      ]
    },
    {
      "cell_type": "code",
      "metadata": {
        "colab": {
          "base_uri": "https://localhost:8080/"
        },
        "id": "r1E1Y7CSsrsm",
        "outputId": "5835084c-1923-48d4-894e-6c493fc2e242"
      },
      "source": [
        "valid_pred_array=np.zeros([60, 168])\n",
        "for idx in range(train_x_array.shape[0]):\n",
        "    try:\n",
        "        try:\n",
        "            x_series=train_x_array[idx, :, 0]\n",
        "            model=ARIMA(x_series, order=(5, 1, 1))\n",
        "            fit=model.fit()\n",
        "            preds=fit.predict(1, 168, typ='levels')\n",
        "            valid_pred_array[idx, :]=preds\n",
        "        except:\n",
        "            print(\"order 4,1,1\")\n",
        "            \n",
        "            x_series=train_x_array[idx, :, 0]\n",
        "            model=ARIMA(x_series, order=(4, 1, 1))\n",
        "            fit=model.fit()\n",
        "            preds=fit.predict(1, 168, typ='levels')\n",
        "            valid_pred_array[idx, :]=preds\n",
        "    except:\n",
        "        print(idx, \"샘플은 수렴하지 않습니다.\")"
      ],
      "execution_count": 72,
      "outputs": [
        {
          "output_type": "stream",
          "text": [
            "order 4,1,1\n",
            "4 샘플은 수렴하지 않습니다.\n",
            "order 4,1,1\n",
            "6 샘플은 수렴하지 않습니다.\n",
            "order 4,1,1\n",
            "8 샘플은 수렴하지 않습니다.\n",
            "order 4,1,1\n",
            "9 샘플은 수렴하지 않습니다.\n"
          ],
          "name": "stdout"
        }
      ]
    },
    {
      "cell_type": "code",
      "metadata": {
        "colab": {
          "base_uri": "https://localhost:8080/"
        },
        "id": "Ea_8F4mFsrsn",
        "outputId": "5c839c14-80df-4d05-bf45-5eb7bd6a7b46"
      },
      "source": [
        "valid_pred_array.shape"
      ],
      "execution_count": 73,
      "outputs": [
        {
          "output_type": "execute_result",
          "data": {
            "text/plain": [
              "(60, 168)"
            ]
          },
          "metadata": {
            "tags": []
          },
          "execution_count": 73
        }
      ]
    },
    {
      "cell_type": "code",
      "metadata": {
        "colab": {
          "base_uri": "https://localhost:8080/",
          "height": 402
        },
        "id": "jkGL6srdsrso",
        "outputId": "a5b0895d-9b31-4b40-9e90-aa467f2636f3"
      },
      "source": [
        "submission['answer']=valid_pred_array.reshape([-1,1])\n",
        "submission"
      ],
      "execution_count": 74,
      "outputs": [
        {
          "output_type": "execute_result",
          "data": {
            "text/html": [
              "<div>\n",
              "<style scoped>\n",
              "    .dataframe tbody tr th:only-of-type {\n",
              "        vertical-align: middle;\n",
              "    }\n",
              "\n",
              "    .dataframe tbody tr th {\n",
              "        vertical-align: top;\n",
              "    }\n",
              "\n",
              "    .dataframe thead th {\n",
              "        text-align: right;\n",
              "    }\n",
              "</style>\n",
              "<table border=\"1\" class=\"dataframe\">\n",
              "  <thead>\n",
              "    <tr style=\"text-align: right;\">\n",
              "      <th></th>\n",
              "      <th>num_date_time</th>\n",
              "      <th>answer</th>\n",
              "    </tr>\n",
              "  </thead>\n",
              "  <tbody>\n",
              "    <tr>\n",
              "      <th>0</th>\n",
              "      <td>1 2020-08-25 00</td>\n",
              "      <td>8179.344604</td>\n",
              "    </tr>\n",
              "    <tr>\n",
              "      <th>1</th>\n",
              "      <td>1 2020-08-25 01</td>\n",
              "      <td>8140.920858</td>\n",
              "    </tr>\n",
              "    <tr>\n",
              "      <th>2</th>\n",
              "      <td>1 2020-08-25 02</td>\n",
              "      <td>8106.504467</td>\n",
              "    </tr>\n",
              "    <tr>\n",
              "      <th>3</th>\n",
              "      <td>1 2020-08-25 03</td>\n",
              "      <td>8048.969498</td>\n",
              "    </tr>\n",
              "    <tr>\n",
              "      <th>4</th>\n",
              "      <td>1 2020-08-25 04</td>\n",
              "      <td>8037.006550</td>\n",
              "    </tr>\n",
              "    <tr>\n",
              "      <th>...</th>\n",
              "      <td>...</td>\n",
              "      <td>...</td>\n",
              "    </tr>\n",
              "    <tr>\n",
              "      <th>10075</th>\n",
              "      <td>60 2020-08-31 19</td>\n",
              "      <td>0.000000</td>\n",
              "    </tr>\n",
              "    <tr>\n",
              "      <th>10076</th>\n",
              "      <td>60 2020-08-31 20</td>\n",
              "      <td>0.000000</td>\n",
              "    </tr>\n",
              "    <tr>\n",
              "      <th>10077</th>\n",
              "      <td>60 2020-08-31 21</td>\n",
              "      <td>0.000000</td>\n",
              "    </tr>\n",
              "    <tr>\n",
              "      <th>10078</th>\n",
              "      <td>60 2020-08-31 22</td>\n",
              "      <td>0.000000</td>\n",
              "    </tr>\n",
              "    <tr>\n",
              "      <th>10079</th>\n",
              "      <td>60 2020-08-31 23</td>\n",
              "      <td>0.000000</td>\n",
              "    </tr>\n",
              "  </tbody>\n",
              "</table>\n",
              "<p>10080 rows × 2 columns</p>\n",
              "</div>"
            ],
            "text/plain": [
              "          num_date_time       answer\n",
              "0       1 2020-08-25 00  8179.344604\n",
              "1       1 2020-08-25 01  8140.920858\n",
              "2       1 2020-08-25 02  8106.504467\n",
              "3       1 2020-08-25 03  8048.969498\n",
              "4       1 2020-08-25 04  8037.006550\n",
              "...                 ...          ...\n",
              "10075  60 2020-08-31 19     0.000000\n",
              "10076  60 2020-08-31 20     0.000000\n",
              "10077  60 2020-08-31 21     0.000000\n",
              "10078  60 2020-08-31 22     0.000000\n",
              "10079  60 2020-08-31 23     0.000000\n",
              "\n",
              "[10080 rows x 2 columns]"
            ]
          },
          "metadata": {
            "tags": []
          },
          "execution_count": 74
        }
      ]
    },
    {
      "cell_type": "code",
      "metadata": {
        "id": "RVIRs2d-srsq"
      },
      "source": [
        "submission.to_csv('baseline_submission2.csv', index=False)"
      ],
      "execution_count": 75,
      "outputs": []
    },
    {
      "cell_type": "code",
      "metadata": {
        "id": "0n4M8YO6srsq"
      },
      "source": [
        ""
      ],
      "execution_count": null,
      "outputs": []
    }
  ]
}