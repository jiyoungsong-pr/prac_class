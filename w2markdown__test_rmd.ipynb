{
  "nbformat": 4,
  "nbformat_minor": 0,
  "metadata": {
    "colab": {
      "name": "w2markdown_ test.rmd",
      "provenance": [],
      "collapsed_sections": [],
      "toc_visible": true,
      "include_colab_link": true
    },
    "kernelspec": {
      "display_name": "Python 3",
      "name": "python3"
    }
  },
  "cells": [
    {
      "cell_type": "markdown",
      "metadata": {
        "id": "view-in-github",
        "colab_type": "text"
      },
      "source": [
        "<a href=\"https://colab.research.google.com/github/jiyoungsong-pr/prac_class/blob/main/w2markdown__test_rmd.ipynb\" target=\"_parent\"><img src=\"https://colab.research.google.com/assets/colab-badge.svg\" alt=\"Open In Colab\"/></a>"
      ]
    },
    {
      "cell_type": "markdown",
      "metadata": {
        "id": "uiaB3Zjn6FKS"
      },
      "source": [
        "title: \"Rmarkdown TEST\"\r\n",
        "author: song-ji-young\r\n",
        "date: \"MAR 11,2021\"\r\n",
        "output: html_document\r\n",
        "\r\n",
        "\r\n",
        "## Rmarkdown Test\r\n",
        "\r\n",
        "```{r gobal_option, include=false}\r\n",
        "  knitr :: opts_chunk$Set(fig.width=12,fig.heigt=4,fig.path='Figs/',\r\n",
        "  warning=FALSE,message=FALSE,include=FALSE,echo=FALSE)\r\n",
        "  \r\n",
        "  set.seed(123123)\r\n",
        "```\r\n",
        "  \r\n",
        "``` {r}\r\n",
        "  data(iris)\r\n",
        "library(kintr)\r\n",
        "kable(iris[1:10,])\r\n",
        "\r\n",
        "```{r,include=False}\r\n",
        "1+1\r\n",
        "```\r\n",
        "```{r,echo=False}\r\n",
        "1+1\r\n",
        "```\r\n",
        "```{r course2, out.width=350px, fig.align='center',echo=FALSE}\r\n",
        "plot(iris[,1],iris[,2],col=iris[,5])  \r\n",
        "```\r\n",
        "$$/ sum_(i=1)^n x_i $$"
      ]
    },
    {
      "cell_type": "code",
      "metadata": {
        "colab": {
          "base_uri": "https://localhost:8080/",
          "height": 34
        },
        "id": "gJr_9dXGpJ05",
        "outputId": "9f556d03-ec67-4950-a485-cfdba9ddd14d"
      },
      "source": [
        "seconds_in_a_day = 24 * 60 * 60\n",
        "seconds_in_a_day"
      ],
      "execution_count": null,
      "outputs": [
        {
          "output_type": "execute_result",
          "data": {
            "text/plain": [
              "86400"
            ]
          },
          "metadata": {
            "tags": []
          },
          "execution_count": 0
        }
      ]
    },
    {
      "cell_type": "markdown",
      "metadata": {
        "id": "2fhs6GZ4qFMx"
      },
      "source": [
        "위 셀의 코드를 실행하려면 셀을 클릭하여 선택한 후 코드 왼쪽의 실행 버튼을 누르거나 단축키 'Command/Ctrl+Enter'를 사용하세요. 셀을 클릭하면 코드 수정을 바로 시작할 수 있습니다.\n",
        "\n",
        "특정 셀에서 정의한 변수를 나중에 다른 셀에서 사용할 수 있습니다."
      ]
    },
    {
      "cell_type": "code",
      "metadata": {
        "colab": {
          "base_uri": "https://localhost:8080/",
          "height": 34
        },
        "id": "-gE-Ez1qtyIA",
        "outputId": "94cb2224-0edf-457b-90b5-0ac3488d8a97"
      },
      "source": [
        "seconds_in_a_week = 7 * seconds_in_a_day\n",
        "seconds_in_a_week"
      ],
      "execution_count": null,
      "outputs": [
        {
          "output_type": "execute_result",
          "data": {
            "text/plain": [
              "604800"
            ]
          },
          "metadata": {
            "tags": []
          },
          "execution_count": 0
        }
      ]
    }
  ]
}