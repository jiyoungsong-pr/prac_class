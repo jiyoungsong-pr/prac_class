{
  "nbformat": 4,
  "nbformat_minor": 0,
  "metadata": {
    "colab": {
      "name": "w2markdown_rmd",
      "provenance": [],
      "authorship_tag": "ABX9TyOp+rf2rF8QY7ZXi9oLUJtX",
      "include_colab_link": true
    },
    "kernelspec": {
      "name": "python3",
      "display_name": "Python 3"
    }
  },
  "cells": [
    {
      "cell_type": "markdown",
      "metadata": {
        "id": "view-in-github",
        "colab_type": "text"
      },
      "source": [
        "<a href=\"https://colab.research.google.com/github/jiyoungsong-pr/prac_class/blob/main/w2markdown_rmd.ipynb\" target=\"_parent\"><img src=\"https://colab.research.google.com/assets/colab-badge.svg\" alt=\"Open In Colab\"/></a>"
      ]
    },
    {
      "cell_type": "code",
      "metadata": {
        "id": "5iZyhtDu7kbm"
      },
      "source": [
        "title: \"Rmarkdown TEST\"\r\n",
        "author: song-ji-young\r\n",
        "date: \"MAR 11,2021\"\r\n",
        "output: html_document\r\n",
        "\r\n",
        "\r\n",
        "## Rmarkdown Test\r\n",
        "\r\n",
        "```{r gobal_option, include=false}\r\n",
        "  knitr :: opts_chunk$Set(fig.width=12,fig.heigt=4,fig.path='Figs/',\r\n",
        "  warning=FALSE,message=FALSE,include=FALSE,echo=FALSE)\r\n",
        "  \r\n",
        "  set.seed(123123)\r\n",
        "```\r\n",
        "  \r\n",
        "``` {r}\r\n",
        "  data(iris)\r\n",
        "library(kintr)\r\n",
        "kable(iris[1:10,])\r\n",
        "\r\n",
        "```{r,include=False}\r\n",
        "1+1\r\n",
        "```\r\n",
        "```{r,echo=False}\r\n",
        "1+1\r\n",
        "```\r\n",
        "```{r course2, out.width=350px, fig.align='center',echo=FALSE}\r\n",
        "plot(iris[,1],iris[,2],col=iris[,5])  \r\n",
        "```\r\n",
        "$$/ sum_(i=1)^n x_i $$"
      ],
      "execution_count": null,
      "outputs": []
    }
  ]
}